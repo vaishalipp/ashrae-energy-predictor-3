{
 "cells": [
  {
   "cell_type": "markdown",
   "metadata": {},
   "source": [
    "<h1><center>ASHRAE - Great Energy Predictor III -  Modeling💡</center></h1>"
   ]
  },
  {
   "cell_type": "markdown",
   "metadata": {},
   "source": [
    "# Libraries 📚"
   ]
  },
  {
   "cell_type": "code",
   "execution_count": 1,
   "metadata": {},
   "outputs": [],
   "source": [
    "import numpy as np\n",
    "import pandas as pd\n",
    "\n",
    "import pandas_profiling\n",
    "from pandas_profiling.utils.cache import cache_file\n",
    "import datetime\n",
    "import seaborn as sns\n",
    "import matplotlib.pyplot as plt"
   ]
  },
  {
   "cell_type": "markdown",
   "metadata": {},
   "source": [
    "# Read data from interim files"
   ]
  },
  {
   "cell_type": "code",
   "execution_count": 2,
   "metadata": {},
   "outputs": [],
   "source": [
    "train_weather_grpsite_df = pd.read_pickle(\"../data/interim/train_weather_grpsite_df\")\n",
    "train_build_df = pd.read_pickle(\"../data/interim/train_build_df\")\n",
    "train_weather_df = pd.read_pickle(\"../data/interim/train_weather_df\")"
   ]
  },
  {
   "cell_type": "code",
   "execution_count": 3,
   "metadata": {},
   "outputs": [],
   "source": [
    "from sklearn.model_selection import train_test_split\n",
    "import statsmodels.api as sm\n",
    "import datetime as dt"
   ]
  },
  {
   "cell_type": "code",
   "execution_count": 4,
   "metadata": {},
   "outputs": [
    {
     "data": {
      "text/plain": [
       "timestamp              0.000000\n",
       "floor_count            0.000000\n",
       "year_built             0.000000\n",
       "primary_use            0.000000\n",
       "site_id                0.000000\n",
       "square_feet            0.000000\n",
       "building_id            0.000000\n",
       "wind_direction         0.384856\n",
       "air_temperature        0.384856\n",
       "cloud_coverage         0.384856\n",
       "dew_temperature        0.384856\n",
       "precip_depth_1_hr      0.384856\n",
       "sea_level_pressure     0.384856\n",
       "wind_speed             0.384856\n",
       "Electricity            2.687502\n",
       "ChilledWater          66.254314\n",
       "Steam                 78.144964\n",
       "HotWater              89.801218\n",
       "dtype: float64"
      ]
     },
     "execution_count": 4,
     "metadata": {},
     "output_type": "execute_result"
    }
   ],
   "source": [
    "(train_weather_df.isnull().sum()/train_weather_df.count().max()*100).sort_values()"
   ]
  },
  {
   "cell_type": "code",
   "execution_count": 5,
   "metadata": {},
   "outputs": [
    {
     "data": {
      "text/html": [
       "<div>\n",
       "<style scoped>\n",
       "    .dataframe tbody tr th:only-of-type {\n",
       "        vertical-align: middle;\n",
       "    }\n",
       "\n",
       "    .dataframe tbody tr th {\n",
       "        vertical-align: top;\n",
       "    }\n",
       "\n",
       "    .dataframe thead th {\n",
       "        text-align: right;\n",
       "    }\n",
       "</style>\n",
       "<table border=\"1\" class=\"dataframe\">\n",
       "  <thead>\n",
       "    <tr style=\"text-align: right;\">\n",
       "      <th></th>\n",
       "      <th>count</th>\n",
       "      <th>mean</th>\n",
       "      <th>std</th>\n",
       "      <th>min</th>\n",
       "      <th>25%</th>\n",
       "      <th>50%</th>\n",
       "      <th>75%</th>\n",
       "      <th>max</th>\n",
       "    </tr>\n",
       "  </thead>\n",
       "  <tbody>\n",
       "    <tr>\n",
       "      <th>building_id</th>\n",
       "      <td>12393999.0</td>\n",
       "      <td>716.663162</td>\n",
       "      <td>416.126467</td>\n",
       "      <td>0.0</td>\n",
       "      <td>354.0000</td>\n",
       "      <td>716.0000</td>\n",
       "      <td>1078.000</td>\n",
       "      <td>1448.0</td>\n",
       "    </tr>\n",
       "    <tr>\n",
       "      <th>Electricity</th>\n",
       "      <td>12060910.0</td>\n",
       "      <td>170.825636</td>\n",
       "      <td>380.834307</td>\n",
       "      <td>0.0</td>\n",
       "      <td>19.5000</td>\n",
       "      <td>62.8319</td>\n",
       "      <td>170.075</td>\n",
       "      <td>79769.0</td>\n",
       "    </tr>\n",
       "    <tr>\n",
       "      <th>ChilledWater</th>\n",
       "      <td>4182440.0</td>\n",
       "      <td>633.363924</td>\n",
       "      <td>7988.213146</td>\n",
       "      <td>0.0</td>\n",
       "      <td>11.3288</td>\n",
       "      <td>120.4870</td>\n",
       "      <td>464.314</td>\n",
       "      <td>880374.0</td>\n",
       "    </tr>\n",
       "    <tr>\n",
       "      <th>Steam</th>\n",
       "      <td>2708713.0</td>\n",
       "      <td>13882.187689</td>\n",
       "      <td>418313.503638</td>\n",
       "      <td>0.0</td>\n",
       "      <td>45.7500</td>\n",
       "      <td>257.8120</td>\n",
       "      <td>1035.320</td>\n",
       "      <td>21904700.0</td>\n",
       "    </tr>\n",
       "    <tr>\n",
       "      <th>HotWater</th>\n",
       "      <td>1264037.0</td>\n",
       "      <td>385.866781</td>\n",
       "      <td>2508.172498</td>\n",
       "      <td>0.0</td>\n",
       "      <td>0.0000</td>\n",
       "      <td>39.6237</td>\n",
       "      <td>241.285</td>\n",
       "      <td>160187.0</td>\n",
       "    </tr>\n",
       "    <tr>\n",
       "      <th>site_id</th>\n",
       "      <td>12393999.0</td>\n",
       "      <td>6.873374</td>\n",
       "      <td>4.971966</td>\n",
       "      <td>0.0</td>\n",
       "      <td>3.0000</td>\n",
       "      <td>5.0000</td>\n",
       "      <td>13.000</td>\n",
       "      <td>15.0</td>\n",
       "    </tr>\n",
       "    <tr>\n",
       "      <th>square_feet</th>\n",
       "      <td>12393999.0</td>\n",
       "      <td>92668.110667</td>\n",
       "      <td>111443.889815</td>\n",
       "      <td>283.0</td>\n",
       "      <td>23067.0000</td>\n",
       "      <td>58041.0000</td>\n",
       "      <td>116121.000</td>\n",
       "      <td>875000.0</td>\n",
       "    </tr>\n",
       "    <tr>\n",
       "      <th>year_built</th>\n",
       "      <td>12393999.0</td>\n",
       "      <td>31.333983</td>\n",
       "      <td>39.947676</td>\n",
       "      <td>0.0</td>\n",
       "      <td>0.0000</td>\n",
       "      <td>0.0000</td>\n",
       "      <td>68.000</td>\n",
       "      <td>117.0</td>\n",
       "    </tr>\n",
       "    <tr>\n",
       "      <th>floor_count</th>\n",
       "      <td>12393999.0</td>\n",
       "      <td>0.921552</td>\n",
       "      <td>2.321319</td>\n",
       "      <td>0.0</td>\n",
       "      <td>0.0000</td>\n",
       "      <td>0.0000</td>\n",
       "      <td>0.000</td>\n",
       "      <td>26.0</td>\n",
       "    </tr>\n",
       "    <tr>\n",
       "      <th>air_temperature</th>\n",
       "      <td>12346300.0</td>\n",
       "      <td>15.896501</td>\n",
       "      <td>10.455795</td>\n",
       "      <td>-28.9</td>\n",
       "      <td>8.9000</td>\n",
       "      <td>16.5000</td>\n",
       "      <td>23.900</td>\n",
       "      <td>47.2</td>\n",
       "    </tr>\n",
       "    <tr>\n",
       "      <th>cloud_coverage</th>\n",
       "      <td>12346300.0</td>\n",
       "      <td>1.266337</td>\n",
       "      <td>2.213433</td>\n",
       "      <td>0.0</td>\n",
       "      <td>0.0000</td>\n",
       "      <td>0.0000</td>\n",
       "      <td>2.000</td>\n",
       "      <td>9.0</td>\n",
       "    </tr>\n",
       "    <tr>\n",
       "      <th>dew_temperature</th>\n",
       "      <td>12346300.0</td>\n",
       "      <td>8.251251</td>\n",
       "      <td>9.877959</td>\n",
       "      <td>-35.0</td>\n",
       "      <td>1.1000</td>\n",
       "      <td>9.4000</td>\n",
       "      <td>16.100</td>\n",
       "      <td>26.1</td>\n",
       "    </tr>\n",
       "    <tr>\n",
       "      <th>precip_depth_1_hr</th>\n",
       "      <td>12346300.0</td>\n",
       "      <td>0.432673</td>\n",
       "      <td>6.927012</td>\n",
       "      <td>-1.0</td>\n",
       "      <td>-1.0000</td>\n",
       "      <td>0.0000</td>\n",
       "      <td>0.000</td>\n",
       "      <td>343.0</td>\n",
       "    </tr>\n",
       "    <tr>\n",
       "      <th>sea_level_pressure</th>\n",
       "      <td>12346300.0</td>\n",
       "      <td>1013.347829</td>\n",
       "      <td>13.556913</td>\n",
       "      <td>968.2</td>\n",
       "      <td>1011.0000</td>\n",
       "      <td>1015.9000</td>\n",
       "      <td>1020.400</td>\n",
       "      <td>1045.5</td>\n",
       "    </tr>\n",
       "    <tr>\n",
       "      <th>wind_direction</th>\n",
       "      <td>12346300.0</td>\n",
       "      <td>174.980644</td>\n",
       "      <td>111.960647</td>\n",
       "      <td>0.0</td>\n",
       "      <td>80.0000</td>\n",
       "      <td>180.0000</td>\n",
       "      <td>270.000</td>\n",
       "      <td>360.0</td>\n",
       "    </tr>\n",
       "    <tr>\n",
       "      <th>wind_speed</th>\n",
       "      <td>12346300.0</td>\n",
       "      <td>3.554830</td>\n",
       "      <td>2.316982</td>\n",
       "      <td>0.0</td>\n",
       "      <td>2.1000</td>\n",
       "      <td>3.1000</td>\n",
       "      <td>4.600</td>\n",
       "      <td>19.0</td>\n",
       "    </tr>\n",
       "  </tbody>\n",
       "</table>\n",
       "</div>"
      ],
      "text/plain": [
       "                         count          mean            std    min  \\\n",
       "building_id         12393999.0    716.663162     416.126467    0.0   \n",
       "Electricity         12060910.0    170.825636     380.834307    0.0   \n",
       "ChilledWater         4182440.0    633.363924    7988.213146    0.0   \n",
       "Steam                2708713.0  13882.187689  418313.503638    0.0   \n",
       "HotWater             1264037.0    385.866781    2508.172498    0.0   \n",
       "site_id             12393999.0      6.873374       4.971966    0.0   \n",
       "square_feet         12393999.0  92668.110667  111443.889815  283.0   \n",
       "year_built          12393999.0     31.333983      39.947676    0.0   \n",
       "floor_count         12393999.0      0.921552       2.321319    0.0   \n",
       "air_temperature     12346300.0     15.896501      10.455795  -28.9   \n",
       "cloud_coverage      12346300.0      1.266337       2.213433    0.0   \n",
       "dew_temperature     12346300.0      8.251251       9.877959  -35.0   \n",
       "precip_depth_1_hr   12346300.0      0.432673       6.927012   -1.0   \n",
       "sea_level_pressure  12346300.0   1013.347829      13.556913  968.2   \n",
       "wind_direction      12346300.0    174.980644     111.960647    0.0   \n",
       "wind_speed          12346300.0      3.554830       2.316982    0.0   \n",
       "\n",
       "                           25%         50%         75%         max  \n",
       "building_id           354.0000    716.0000    1078.000      1448.0  \n",
       "Electricity            19.5000     62.8319     170.075     79769.0  \n",
       "ChilledWater           11.3288    120.4870     464.314    880374.0  \n",
       "Steam                  45.7500    257.8120    1035.320  21904700.0  \n",
       "HotWater                0.0000     39.6237     241.285    160187.0  \n",
       "site_id                 3.0000      5.0000      13.000        15.0  \n",
       "square_feet         23067.0000  58041.0000  116121.000    875000.0  \n",
       "year_built              0.0000      0.0000      68.000       117.0  \n",
       "floor_count             0.0000      0.0000       0.000        26.0  \n",
       "air_temperature         8.9000     16.5000      23.900        47.2  \n",
       "cloud_coverage          0.0000      0.0000       2.000         9.0  \n",
       "dew_temperature         1.1000      9.4000      16.100        26.1  \n",
       "precip_depth_1_hr      -1.0000      0.0000       0.000       343.0  \n",
       "sea_level_pressure   1011.0000   1015.9000    1020.400      1045.5  \n",
       "wind_direction         80.0000    180.0000     270.000       360.0  \n",
       "wind_speed              2.1000      3.1000       4.600        19.0  "
      ]
     },
     "execution_count": 5,
     "metadata": {},
     "output_type": "execute_result"
    }
   ],
   "source": [
    "train_weather_df.describe().T"
   ]
  },
  {
   "cell_type": "code",
   "execution_count": 6,
   "metadata": {},
   "outputs": [
    {
     "name": "stdout",
     "output_type": "stream",
     "text": [
      "<class 'pandas.core.frame.DataFrame'>\n",
      "Int64Index: 12393999 entries, 0 to 12393998\n",
      "Data columns (total 18 columns):\n",
      " #   Column              Dtype         \n",
      "---  ------              -----         \n",
      " 0   timestamp           datetime64[ns]\n",
      " 1   building_id         int64         \n",
      " 2   Electricity         float64       \n",
      " 3   ChilledWater        float64       \n",
      " 4   Steam               float64       \n",
      " 5   HotWater            float64       \n",
      " 6   site_id             int16         \n",
      " 7   primary_use         category      \n",
      " 8   square_feet         int64         \n",
      " 9   year_built          float64       \n",
      " 10  floor_count         float64       \n",
      " 11  air_temperature     float64       \n",
      " 12  cloud_coverage      float64       \n",
      " 13  dew_temperature     float64       \n",
      " 14  precip_depth_1_hr   float64       \n",
      " 15  sea_level_pressure  float64       \n",
      " 16  wind_direction      float64       \n",
      " 17  wind_speed          float64       \n",
      "dtypes: category(1), datetime64[ns](1), float64(13), int16(1), int64(2)\n",
      "memory usage: 1.6 GB\n"
     ]
    }
   ],
   "source": [
    "train_weather_df.info()"
   ]
  },
  {
   "cell_type": "markdown",
   "metadata": {},
   "source": [
    "# Linear OLS model analysis with StatsModel"
   ]
  },
  {
   "cell_type": "code",
   "execution_count": 7,
   "metadata": {},
   "outputs": [],
   "source": [
    "y_cols=['Electricity','ChilledWater','Steam','HotWater']\n",
    "y_pred_col = 'Electricity'\n",
    "X = train_weather_df.drop(columns=y_cols)\n",
    "X = sm.add_constant(X)\n",
    "Y = train_weather_df[y_pred_col]\n",
    "X['timestamp'] = X['timestamp'].astype('datetime64').astype(int)"
   ]
  },
  {
   "cell_type": "code",
   "execution_count": 8,
   "metadata": {},
   "outputs": [],
   "source": [
    "#Convert Category field into dummy variables\n",
    "X = pd.get_dummies(X,drop_first=True)"
   ]
  },
  {
   "cell_type": "code",
   "execution_count": 9,
   "metadata": {},
   "outputs": [],
   "source": [
    "# Should we split the data ? as we are just analyzing the data and not modeling it for predictions\n",
    "X_train, X_test, y_train, y_test = train_test_split(X,Y,test_size=0.3,random_state=42) "
   ]
  },
  {
   "cell_type": "code",
   "execution_count": 10,
   "metadata": {},
   "outputs": [],
   "source": [
    "X_train=X_train.fillna(X_train.min()-1)         #To assign a value which is outside the range of values\n",
    "y_train=y_train.fillna(y_train.min()-1)   "
   ]
  },
  {
   "cell_type": "code",
   "execution_count": 11,
   "metadata": {},
   "outputs": [
    {
     "data": {
      "text/html": [
       "<table class=\"simpletable\">\n",
       "<caption>OLS Regression Results</caption>\n",
       "<tr>\n",
       "  <th>Dep. Variable:</th>       <td>Electricity</td>   <th>  R-squared:         </th>  <td>   0.294</td>  \n",
       "</tr>\n",
       "<tr>\n",
       "  <th>Model:</th>                   <td>OLS</td>       <th>  Adj. R-squared:    </th>  <td>   0.294</td>  \n",
       "</tr>\n",
       "<tr>\n",
       "  <th>Method:</th>             <td>Least Squares</td>  <th>  F-statistic:       </th>  <td>3.617e+06</td> \n",
       "</tr>\n",
       "<tr>\n",
       "  <th>Date:</th>             <td>Thu, 03 Dec 2020</td> <th>  Prob (F-statistic):</th>   <td>  0.00</td>   \n",
       "</tr>\n",
       "<tr>\n",
       "  <th>Time:</th>                 <td>13:44:46</td>     <th>  Log-Likelihood:    </th> <td>-6.2255e+07</td>\n",
       "</tr>\n",
       "<tr>\n",
       "  <th>No. Observations:</th>      <td>8675799</td>     <th>  AIC:               </th>  <td>1.245e+08</td> \n",
       "</tr>\n",
       "<tr>\n",
       "  <th>Df Residuals:</th>          <td>8675797</td>     <th>  BIC:               </th>  <td>1.245e+08</td> \n",
       "</tr>\n",
       "<tr>\n",
       "  <th>Df Model:</th>              <td>     1</td>      <th>                     </th>      <td> </td>     \n",
       "</tr>\n",
       "<tr>\n",
       "  <th>Covariance Type:</th>      <td>nonrobust</td>    <th>                     </th>      <td> </td>     \n",
       "</tr>\n",
       "</table>\n",
       "<table class=\"simpletable\">\n",
       "<tr>\n",
       "                      <td></td>                         <th>coef</th>     <th>std err</th>      <th>t</th>      <th>P>|t|</th>  <th>[0.025</th>    <th>0.975]</th>  \n",
       "</tr>\n",
       "<tr>\n",
       "  <th>const</th>                                     <td> 9.039e-11</td> <td> 4.75e-14</td> <td> 1901.455</td> <td> 0.000</td> <td> 9.03e-11</td> <td> 9.05e-11</td>\n",
       "</tr>\n",
       "<tr>\n",
       "  <th>timestamp</th>                                 <td>-2.434e-18</td> <td> 9.52e-20</td> <td>  -25.581</td> <td> 0.000</td> <td>-2.62e-18</td> <td>-2.25e-18</td>\n",
       "</tr>\n",
       "<tr>\n",
       "  <th>building_id</th>                               <td> 5.356e-07</td> <td> 2.82e-10</td> <td> 1901.455</td> <td> 0.000</td> <td> 5.35e-07</td> <td> 5.36e-07</td>\n",
       "</tr>\n",
       "<tr>\n",
       "  <th>site_id</th>                                   <td>     7e-09</td> <td> 3.68e-12</td> <td> 1901.455</td> <td> 0.000</td> <td> 6.99e-09</td> <td> 7.01e-09</td>\n",
       "</tr>\n",
       "<tr>\n",
       "  <th>square_feet</th>                               <td>    0.0018</td> <td> 9.64e-07</td> <td> 1901.455</td> <td> 0.000</td> <td>    0.002</td> <td>    0.002</td>\n",
       "</tr>\n",
       "<tr>\n",
       "  <th>year_built</th>                                <td> 5.173e-08</td> <td> 2.72e-11</td> <td> 1901.455</td> <td> 0.000</td> <td> 5.17e-08</td> <td> 5.18e-08</td>\n",
       "</tr>\n",
       "<tr>\n",
       "  <th>floor_count</th>                               <td> 3.952e-09</td> <td> 2.08e-12</td> <td> 1901.455</td> <td> 0.000</td> <td> 3.95e-09</td> <td> 3.96e-09</td>\n",
       "</tr>\n",
       "<tr>\n",
       "  <th>air_temperature</th>                           <td>-1.391e-09</td> <td> 7.32e-13</td> <td>-1901.455</td> <td> 0.000</td> <td>-1.39e-09</td> <td>-1.39e-09</td>\n",
       "</tr>\n",
       "<tr>\n",
       "  <th>cloud_coverage</th>                            <td>-1.104e-09</td> <td> 5.81e-13</td> <td>-1901.455</td> <td> 0.000</td> <td>-1.11e-09</td> <td> -1.1e-09</td>\n",
       "</tr>\n",
       "<tr>\n",
       "  <th>dew_temperature</th>                           <td>-4.532e-09</td> <td> 2.38e-12</td> <td>-1901.455</td> <td> 0.000</td> <td>-4.54e-09</td> <td>-4.53e-09</td>\n",
       "</tr>\n",
       "<tr>\n",
       "  <th>precip_depth_1_hr</th>                         <td> 6.371e-10</td> <td> 3.35e-13</td> <td> 1901.455</td> <td> 0.000</td> <td> 6.36e-10</td> <td> 6.38e-10</td>\n",
       "</tr>\n",
       "<tr>\n",
       "  <th>sea_level_pressure</th>                        <td> 1.821e-08</td> <td> 9.58e-12</td> <td> 1901.455</td> <td> 0.000</td> <td> 1.82e-08</td> <td> 1.82e-08</td>\n",
       "</tr>\n",
       "<tr>\n",
       "  <th>wind_direction</th>                            <td>-3.035e-08</td> <td>  1.6e-11</td> <td>-1901.455</td> <td> 0.000</td> <td>-3.04e-08</td> <td>-3.03e-08</td>\n",
       "</tr>\n",
       "<tr>\n",
       "  <th>wind_speed</th>                                <td>-1.439e-09</td> <td> 7.57e-13</td> <td>-1901.455</td> <td> 0.000</td> <td>-1.44e-09</td> <td>-1.44e-09</td>\n",
       "</tr>\n",
       "<tr>\n",
       "  <th>primary_use_Entertainment/public assembly</th> <td>-2.201e-10</td> <td> 1.16e-13</td> <td>-1901.455</td> <td> 0.000</td> <td> -2.2e-10</td> <td> -2.2e-10</td>\n",
       "</tr>\n",
       "<tr>\n",
       "  <th>primary_use_Food sales and service</th>        <td>-2.848e-11</td> <td>  1.5e-14</td> <td>-1901.455</td> <td> 0.000</td> <td>-2.85e-11</td> <td>-2.84e-11</td>\n",
       "</tr>\n",
       "<tr>\n",
       "  <th>primary_use_Healthcare</th>                    <td> 1.166e-10</td> <td> 6.13e-14</td> <td> 1901.455</td> <td> 0.000</td> <td> 1.16e-10</td> <td> 1.17e-10</td>\n",
       "</tr>\n",
       "<tr>\n",
       "  <th>primary_use_Lodging/residential</th>           <td> -1.06e-10</td> <td> 5.57e-14</td> <td>-1901.455</td> <td> 0.000</td> <td>-1.06e-10</td> <td>-1.06e-10</td>\n",
       "</tr>\n",
       "<tr>\n",
       "  <th>primary_use_Manufacturing/industrial</th>      <td>-6.153e-11</td> <td> 3.24e-14</td> <td>-1901.455</td> <td> 0.000</td> <td>-6.16e-11</td> <td>-6.15e-11</td>\n",
       "</tr>\n",
       "<tr>\n",
       "  <th>primary_use_Office</th>                        <td>-1.578e-10</td> <td>  8.3e-14</td> <td>-1901.455</td> <td> 0.000</td> <td>-1.58e-10</td> <td>-1.58e-10</td>\n",
       "</tr>\n",
       "<tr>\n",
       "  <th>primary_use_Other</th>                         <td>-1.529e-10</td> <td> 8.04e-14</td> <td>-1901.455</td> <td> 0.000</td> <td>-1.53e-10</td> <td>-1.53e-10</td>\n",
       "</tr>\n",
       "<tr>\n",
       "  <th>primary_use_Parking</th>                       <td> 4.364e-10</td> <td>  2.3e-13</td> <td> 1901.455</td> <td> 0.000</td> <td> 4.36e-10</td> <td> 4.37e-10</td>\n",
       "</tr>\n",
       "<tr>\n",
       "  <th>primary_use_Public services</th>               <td>-4.349e-10</td> <td> 2.29e-13</td> <td>-1901.455</td> <td> 0.000</td> <td>-4.35e-10</td> <td>-4.34e-10</td>\n",
       "</tr>\n",
       "<tr>\n",
       "  <th>primary_use_Religious worship</th>             <td>-2.473e-11</td> <td>  1.3e-14</td> <td>-1901.455</td> <td> 0.000</td> <td>-2.48e-11</td> <td>-2.47e-11</td>\n",
       "</tr>\n",
       "<tr>\n",
       "  <th>primary_use_Retail</th>                        <td>-6.116e-11</td> <td> 3.22e-14</td> <td>-1901.455</td> <td> 0.000</td> <td>-6.12e-11</td> <td>-6.11e-11</td>\n",
       "</tr>\n",
       "<tr>\n",
       "  <th>primary_use_Services</th>                      <td> 1.126e-10</td> <td> 5.92e-14</td> <td> 1901.455</td> <td> 0.000</td> <td> 1.13e-10</td> <td> 1.13e-10</td>\n",
       "</tr>\n",
       "<tr>\n",
       "  <th>primary_use_Technology/science</th>            <td>-2.056e-11</td> <td> 1.08e-14</td> <td>-1901.455</td> <td> 0.000</td> <td>-2.06e-11</td> <td>-2.05e-11</td>\n",
       "</tr>\n",
       "<tr>\n",
       "  <th>primary_use_Utility</th>                       <td>-2.416e-11</td> <td> 1.27e-14</td> <td>-1901.455</td> <td> 0.000</td> <td>-2.42e-11</td> <td>-2.41e-11</td>\n",
       "</tr>\n",
       "<tr>\n",
       "  <th>primary_use_Warehouse/storage</th>             <td>-6.195e-11</td> <td> 3.26e-14</td> <td>-1901.455</td> <td> 0.000</td> <td> -6.2e-11</td> <td>-6.19e-11</td>\n",
       "</tr>\n",
       "</table>\n",
       "<table class=\"simpletable\">\n",
       "<tr>\n",
       "  <th>Omnibus:</th>       <td>15392202.863</td> <th>  Durbin-Watson:     </th>     <td>   1.999</td>    \n",
       "</tr>\n",
       "<tr>\n",
       "  <th>Prob(Omnibus):</th>    <td> 0.000</td>    <th>  Jarque-Bera (JB):  </th> <td>197336652254.614</td>\n",
       "</tr>\n",
       "<tr>\n",
       "  <th>Skew:</th>             <td>11.825</td>    <th>  Prob(JB):          </th>     <td>    0.00</td>    \n",
       "</tr>\n",
       "<tr>\n",
       "  <th>Kurtosis:</th>         <td>741.469</td>   <th>  Cond. No.          </th>     <td>1.62e+18</td>    \n",
       "</tr>\n",
       "</table><br/><br/>Notes:<br/>[1] Standard Errors assume that the covariance matrix of the errors is correctly specified.<br/>[2] The condition number is large, 1.62e+18. This might indicate that there are<br/>strong multicollinearity or other numerical problems."
      ],
      "text/plain": [
       "<class 'statsmodels.iolib.summary.Summary'>\n",
       "\"\"\"\n",
       "                            OLS Regression Results                            \n",
       "==============================================================================\n",
       "Dep. Variable:            Electricity   R-squared:                       0.294\n",
       "Model:                            OLS   Adj. R-squared:                  0.294\n",
       "Method:                 Least Squares   F-statistic:                 3.617e+06\n",
       "Date:                Thu, 03 Dec 2020   Prob (F-statistic):               0.00\n",
       "Time:                        13:44:46   Log-Likelihood:            -6.2255e+07\n",
       "No. Observations:             8675799   AIC:                         1.245e+08\n",
       "Df Residuals:                 8675797   BIC:                         1.245e+08\n",
       "Df Model:                           1                                         \n",
       "Covariance Type:            nonrobust                                         \n",
       "=============================================================================================================\n",
       "                                                coef    std err          t      P>|t|      [0.025      0.975]\n",
       "-------------------------------------------------------------------------------------------------------------\n",
       "const                                      9.039e-11   4.75e-14   1901.455      0.000    9.03e-11    9.05e-11\n",
       "timestamp                                 -2.434e-18   9.52e-20    -25.581      0.000   -2.62e-18   -2.25e-18\n",
       "building_id                                5.356e-07   2.82e-10   1901.455      0.000    5.35e-07    5.36e-07\n",
       "site_id                                        7e-09   3.68e-12   1901.455      0.000    6.99e-09    7.01e-09\n",
       "square_feet                                   0.0018   9.64e-07   1901.455      0.000       0.002       0.002\n",
       "year_built                                 5.173e-08   2.72e-11   1901.455      0.000    5.17e-08    5.18e-08\n",
       "floor_count                                3.952e-09   2.08e-12   1901.455      0.000    3.95e-09    3.96e-09\n",
       "air_temperature                           -1.391e-09   7.32e-13  -1901.455      0.000   -1.39e-09   -1.39e-09\n",
       "cloud_coverage                            -1.104e-09   5.81e-13  -1901.455      0.000   -1.11e-09    -1.1e-09\n",
       "dew_temperature                           -4.532e-09   2.38e-12  -1901.455      0.000   -4.54e-09   -4.53e-09\n",
       "precip_depth_1_hr                          6.371e-10   3.35e-13   1901.455      0.000    6.36e-10    6.38e-10\n",
       "sea_level_pressure                         1.821e-08   9.58e-12   1901.455      0.000    1.82e-08    1.82e-08\n",
       "wind_direction                            -3.035e-08    1.6e-11  -1901.455      0.000   -3.04e-08   -3.03e-08\n",
       "wind_speed                                -1.439e-09   7.57e-13  -1901.455      0.000   -1.44e-09   -1.44e-09\n",
       "primary_use_Entertainment/public assembly -2.201e-10   1.16e-13  -1901.455      0.000    -2.2e-10    -2.2e-10\n",
       "primary_use_Food sales and service        -2.848e-11    1.5e-14  -1901.455      0.000   -2.85e-11   -2.84e-11\n",
       "primary_use_Healthcare                     1.166e-10   6.13e-14   1901.455      0.000    1.16e-10    1.17e-10\n",
       "primary_use_Lodging/residential            -1.06e-10   5.57e-14  -1901.455      0.000   -1.06e-10   -1.06e-10\n",
       "primary_use_Manufacturing/industrial      -6.153e-11   3.24e-14  -1901.455      0.000   -6.16e-11   -6.15e-11\n",
       "primary_use_Office                        -1.578e-10    8.3e-14  -1901.455      0.000   -1.58e-10   -1.58e-10\n",
       "primary_use_Other                         -1.529e-10   8.04e-14  -1901.455      0.000   -1.53e-10   -1.53e-10\n",
       "primary_use_Parking                        4.364e-10    2.3e-13   1901.455      0.000    4.36e-10    4.37e-10\n",
       "primary_use_Public services               -4.349e-10   2.29e-13  -1901.455      0.000   -4.35e-10   -4.34e-10\n",
       "primary_use_Religious worship             -2.473e-11    1.3e-14  -1901.455      0.000   -2.48e-11   -2.47e-11\n",
       "primary_use_Retail                        -6.116e-11   3.22e-14  -1901.455      0.000   -6.12e-11   -6.11e-11\n",
       "primary_use_Services                       1.126e-10   5.92e-14   1901.455      0.000    1.13e-10    1.13e-10\n",
       "primary_use_Technology/science            -2.056e-11   1.08e-14  -1901.455      0.000   -2.06e-11   -2.05e-11\n",
       "primary_use_Utility                       -2.416e-11   1.27e-14  -1901.455      0.000   -2.42e-11   -2.41e-11\n",
       "primary_use_Warehouse/storage             -6.195e-11   3.26e-14  -1901.455      0.000    -6.2e-11   -6.19e-11\n",
       "==============================================================================\n",
       "Omnibus:                 15392202.863   Durbin-Watson:                   1.999\n",
       "Prob(Omnibus):                  0.000   Jarque-Bera (JB):     197336652254.614\n",
       "Skew:                          11.825   Prob(JB):                         0.00\n",
       "Kurtosis:                     741.469   Cond. No.                     1.62e+18\n",
       "==============================================================================\n",
       "\n",
       "Notes:\n",
       "[1] Standard Errors assume that the covariance matrix of the errors is correctly specified.\n",
       "[2] The condition number is large, 1.62e+18. This might indicate that there are\n",
       "strong multicollinearity or other numerical problems.\n",
       "\"\"\""
      ]
     },
     "execution_count": 11,
     "metadata": {},
     "output_type": "execute_result"
    }
   ],
   "source": [
    "# Create the model\n",
    "ols = sm.OLS(y_train, X_train,missing='raise')\n",
    "# Fit the model with fit() \n",
    "result = ols.fit()\n",
    "\n",
    "# Evaluate the model with .summary()\n",
    "result.summary()"
   ]
  },
  {
   "cell_type": "markdown",
   "metadata": {},
   "source": [
    "### Understanding the summary<br>\n",
    "R-squared : Closer this value is to 1 , the better the Dep.Variable is explained by the independent variables. Our value is 0.294 , hence               model doesn't fit the data well.<br>\n",
    "            R-squared = (variance explained by x)/(variance without taking x in account) = (ss(mean) - ss(fit))/ss(mean)<br>\n",
    "Adj R-squared - is lower if additional values are not informative.<br>\n",
    "F-Statistic ~ (ss(mean) - ss(fit))/ss(fit) - Value will be large for a good fit. Our value is 3.617e+06 <br>\n",
    "Prob(F-statistic) - will be low for a reliable model (P-value of the F-Stat)<br>\n",
    "Omnibus - If this value is high the distriution is not normal.<br>\n",
    "Log-Likelihood: Higher the better . Our value is -6.2255e+07<br>\n",
    "AIC/BIC: Lower the better. Our values are high.<br>\n",
    "\n",
    "Cond. No is large, 1.62e+18. This might indicate that there are\n",
    "strong multicollinearity or other numerical problems<br>\n",
    "\n",
    "Jarque-Bera (JB):The Jarque-Bera test statistic tests the null that the data is normally distributed against an alternative that the data follow some other distribution. as Prob(JB) is 0 , we reject the null hypothesis.<br>\n",
    "\n",
    "<b>Our data is not normally distributed.</b>"
   ]
  },
  {
   "cell_type": "code",
   "execution_count": 12,
   "metadata": {},
   "outputs": [
    {
     "data": {
      "text/plain": [
       "(0.9860069772227114, 0.9999999999999999)"
      ]
     },
     "execution_count": 12,
     "metadata": {},
     "output_type": "execute_result"
    }
   ],
   "source": [
    "sm.stats.linear_rainbow(result)"
   ]
  },
  {
   "cell_type": "markdown",
   "metadata": {},
   "source": [
    "<b>Since the P-value of the F-test is 0.99 > 0.05 . We cannot reject the null hypothesis that the regression is correctly modelled as linear. "
   ]
  },
  {
   "cell_type": "markdown",
   "metadata": {},
   "source": [
    "** As due temperature is highly correlated to air-temperature we remove the column and model again. **"
   ]
  },
  {
   "cell_type": "markdown",
   "metadata": {},
   "source": [
    "### OLS 2 (fillna with mean)"
   ]
  },
  {
   "cell_type": "code",
   "execution_count": 13,
   "metadata": {},
   "outputs": [
    {
     "data": {
      "text/html": [
       "<table class=\"simpletable\">\n",
       "<caption>OLS Regression Results</caption>\n",
       "<tr>\n",
       "  <th>Dep. Variable:</th>       <td>Electricity</td>   <th>  R-squared:         </th>  <td>   0.296</td>  \n",
       "</tr>\n",
       "<tr>\n",
       "  <th>Model:</th>                   <td>OLS</td>       <th>  Adj. R-squared:    </th>  <td>   0.296</td>  \n",
       "</tr>\n",
       "<tr>\n",
       "  <th>Method:</th>             <td>Least Squares</td>  <th>  F-statistic:       </th>  <td>3.642e+06</td> \n",
       "</tr>\n",
       "<tr>\n",
       "  <th>Date:</th>             <td>Thu, 03 Dec 2020</td> <th>  Prob (F-statistic):</th>   <td>  0.00</td>   \n",
       "</tr>\n",
       "<tr>\n",
       "  <th>Time:</th>                 <td>13:50:46</td>     <th>  Log-Likelihood:    </th> <td>-6.2222e+07</td>\n",
       "</tr>\n",
       "<tr>\n",
       "  <th>No. Observations:</th>      <td>8675799</td>     <th>  AIC:               </th>  <td>1.244e+08</td> \n",
       "</tr>\n",
       "<tr>\n",
       "  <th>Df Residuals:</th>          <td>8675797</td>     <th>  BIC:               </th>  <td>1.244e+08</td> \n",
       "</tr>\n",
       "<tr>\n",
       "  <th>Df Model:</th>              <td>     1</td>      <th>                     </th>      <td> </td>     \n",
       "</tr>\n",
       "<tr>\n",
       "  <th>Covariance Type:</th>      <td>nonrobust</td>    <th>                     </th>      <td> </td>     \n",
       "</tr>\n",
       "</table>\n",
       "<table class=\"simpletable\">\n",
       "<tr>\n",
       "                      <td></td>                         <th>coef</th>     <th>std err</th>      <th>t</th>      <th>P>|t|</th>  <th>[0.025</th>    <th>0.975]</th>  \n",
       "</tr>\n",
       "<tr>\n",
       "  <th>const</th>                                     <td> 9.035e-11</td> <td> 4.74e-14</td> <td> 1907.855</td> <td> 0.000</td> <td> 9.03e-11</td> <td> 9.04e-11</td>\n",
       "</tr>\n",
       "<tr>\n",
       "  <th>timestamp</th>                                 <td> 7.515e-19</td> <td> 9.48e-20</td> <td>    7.927</td> <td> 0.000</td> <td> 5.66e-19</td> <td> 9.37e-19</td>\n",
       "</tr>\n",
       "<tr>\n",
       "  <th>building_id</th>                               <td> 5.355e-07</td> <td> 2.81e-10</td> <td> 1907.855</td> <td> 0.000</td> <td> 5.35e-07</td> <td> 5.36e-07</td>\n",
       "</tr>\n",
       "<tr>\n",
       "  <th>site_id</th>                                   <td> 6.997e-09</td> <td> 3.67e-12</td> <td> 1907.855</td> <td> 0.000</td> <td> 6.99e-09</td> <td>    7e-09</td>\n",
       "</tr>\n",
       "<tr>\n",
       "  <th>square_feet</th>                               <td>    0.0018</td> <td>  9.6e-07</td> <td> 1907.855</td> <td> 0.000</td> <td>    0.002</td> <td>    0.002</td>\n",
       "</tr>\n",
       "<tr>\n",
       "  <th>year_built</th>                                <td> 5.171e-08</td> <td> 2.71e-11</td> <td> 1907.855</td> <td> 0.000</td> <td> 5.17e-08</td> <td> 5.18e-08</td>\n",
       "</tr>\n",
       "<tr>\n",
       "  <th>floor_count</th>                               <td> 3.951e-09</td> <td> 2.07e-12</td> <td> 1907.855</td> <td> 0.000</td> <td> 3.95e-09</td> <td> 3.95e-09</td>\n",
       "</tr>\n",
       "<tr>\n",
       "  <th>air_temperature</th>                           <td>-1.328e-09</td> <td> 6.96e-13</td> <td>-1907.855</td> <td> 0.000</td> <td>-1.33e-09</td> <td>-1.33e-09</td>\n",
       "</tr>\n",
       "<tr>\n",
       "  <th>cloud_coverage</th>                            <td>-1.101e-09</td> <td> 5.77e-13</td> <td>-1907.855</td> <td> 0.000</td> <td> -1.1e-09</td> <td> -1.1e-09</td>\n",
       "</tr>\n",
       "<tr>\n",
       "  <th>dew_temperature</th>                           <td> -4.47e-09</td> <td> 2.34e-12</td> <td>-1907.855</td> <td> 0.000</td> <td>-4.47e-09</td> <td>-4.47e-09</td>\n",
       "</tr>\n",
       "<tr>\n",
       "  <th>precip_depth_1_hr</th>                         <td> 6.402e-10</td> <td> 3.36e-13</td> <td> 1907.855</td> <td> 0.000</td> <td> 6.39e-10</td> <td> 6.41e-10</td>\n",
       "</tr>\n",
       "<tr>\n",
       "  <th>sea_level_pressure</th>                        <td> 1.827e-08</td> <td> 9.57e-12</td> <td> 1907.855</td> <td> 0.000</td> <td> 1.82e-08</td> <td> 1.83e-08</td>\n",
       "</tr>\n",
       "<tr>\n",
       "  <th>wind_direction</th>                            <td> -3.01e-08</td> <td> 1.58e-11</td> <td>-1907.855</td> <td> 0.000</td> <td>-3.01e-08</td> <td>-3.01e-08</td>\n",
       "</tr>\n",
       "<tr>\n",
       "  <th>wind_speed</th>                                <td>-1.433e-09</td> <td> 7.51e-13</td> <td>-1907.855</td> <td> 0.000</td> <td>-1.43e-09</td> <td>-1.43e-09</td>\n",
       "</tr>\n",
       "<tr>\n",
       "  <th>primary_use_Entertainment/public assembly</th> <td>  -2.2e-10</td> <td> 1.15e-13</td> <td>-1907.855</td> <td> 0.000</td> <td> -2.2e-10</td> <td> -2.2e-10</td>\n",
       "</tr>\n",
       "<tr>\n",
       "  <th>primary_use_Food sales and service</th>        <td>-2.847e-11</td> <td> 1.49e-14</td> <td>-1907.855</td> <td> 0.000</td> <td>-2.85e-11</td> <td>-2.84e-11</td>\n",
       "</tr>\n",
       "<tr>\n",
       "  <th>primary_use_Healthcare</th>                    <td> 1.165e-10</td> <td> 6.11e-14</td> <td> 1907.855</td> <td> 0.000</td> <td> 1.16e-10</td> <td> 1.17e-10</td>\n",
       "</tr>\n",
       "<tr>\n",
       "  <th>primary_use_Lodging/residential</th>           <td>-1.059e-10</td> <td> 5.55e-14</td> <td>-1907.855</td> <td> 0.000</td> <td>-1.06e-10</td> <td>-1.06e-10</td>\n",
       "</tr>\n",
       "<tr>\n",
       "  <th>primary_use_Manufacturing/industrial</th>      <td>-6.151e-11</td> <td> 3.22e-14</td> <td>-1907.855</td> <td> 0.000</td> <td>-6.16e-11</td> <td>-6.14e-11</td>\n",
       "</tr>\n",
       "<tr>\n",
       "  <th>primary_use_Office</th>                        <td>-1.577e-10</td> <td> 8.27e-14</td> <td>-1907.855</td> <td> 0.000</td> <td>-1.58e-10</td> <td>-1.58e-10</td>\n",
       "</tr>\n",
       "<tr>\n",
       "  <th>primary_use_Other</th>                         <td>-1.528e-10</td> <td> 8.01e-14</td> <td>-1907.855</td> <td> 0.000</td> <td>-1.53e-10</td> <td>-1.53e-10</td>\n",
       "</tr>\n",
       "<tr>\n",
       "  <th>primary_use_Parking</th>                       <td> 4.362e-10</td> <td> 2.29e-13</td> <td> 1907.855</td> <td> 0.000</td> <td> 4.36e-10</td> <td> 4.37e-10</td>\n",
       "</tr>\n",
       "<tr>\n",
       "  <th>primary_use_Public services</th>               <td>-4.347e-10</td> <td> 2.28e-13</td> <td>-1907.855</td> <td> 0.000</td> <td>-4.35e-10</td> <td>-4.34e-10</td>\n",
       "</tr>\n",
       "<tr>\n",
       "  <th>primary_use_Religious worship</th>             <td>-2.472e-11</td> <td>  1.3e-14</td> <td>-1907.855</td> <td> 0.000</td> <td>-2.47e-11</td> <td>-2.47e-11</td>\n",
       "</tr>\n",
       "<tr>\n",
       "  <th>primary_use_Retail</th>                        <td>-6.114e-11</td> <td>  3.2e-14</td> <td>-1907.855</td> <td> 0.000</td> <td>-6.12e-11</td> <td>-6.11e-11</td>\n",
       "</tr>\n",
       "<tr>\n",
       "  <th>primary_use_Services</th>                      <td> 1.126e-10</td> <td>  5.9e-14</td> <td> 1907.855</td> <td> 0.000</td> <td> 1.12e-10</td> <td> 1.13e-10</td>\n",
       "</tr>\n",
       "<tr>\n",
       "  <th>primary_use_Technology/science</th>            <td>-2.055e-11</td> <td> 1.08e-14</td> <td>-1907.855</td> <td> 0.000</td> <td>-2.06e-11</td> <td>-2.05e-11</td>\n",
       "</tr>\n",
       "<tr>\n",
       "  <th>primary_use_Utility</th>                       <td>-2.415e-11</td> <td> 1.27e-14</td> <td>-1907.855</td> <td> 0.000</td> <td>-2.42e-11</td> <td>-2.41e-11</td>\n",
       "</tr>\n",
       "<tr>\n",
       "  <th>primary_use_Warehouse/storage</th>             <td>-6.193e-11</td> <td> 3.25e-14</td> <td>-1907.855</td> <td> 0.000</td> <td> -6.2e-11</td> <td>-6.19e-11</td>\n",
       "</tr>\n",
       "</table>\n",
       "<table class=\"simpletable\">\n",
       "<tr>\n",
       "  <th>Omnibus:</th>       <td>15455159.725</td> <th>  Durbin-Watson:     </th>     <td>   1.999</td>    \n",
       "</tr>\n",
       "<tr>\n",
       "  <th>Prob(Omnibus):</th>    <td> 0.000</td>    <th>  Jarque-Bera (JB):  </th> <td>202947249283.526</td>\n",
       "</tr>\n",
       "<tr>\n",
       "  <th>Skew:</th>             <td>11.930</td>    <th>  Prob(JB):          </th>     <td>    0.00</td>    \n",
       "</tr>\n",
       "<tr>\n",
       "  <th>Kurtosis:</th>         <td>751.897</td>   <th>  Cond. No.          </th>     <td>1.62e+18</td>    \n",
       "</tr>\n",
       "</table><br/><br/>Notes:<br/>[1] Standard Errors assume that the covariance matrix of the errors is correctly specified.<br/>[2] The condition number is large, 1.62e+18. This might indicate that there are<br/>strong multicollinearity or other numerical problems."
      ],
      "text/plain": [
       "<class 'statsmodels.iolib.summary.Summary'>\n",
       "\"\"\"\n",
       "                            OLS Regression Results                            \n",
       "==============================================================================\n",
       "Dep. Variable:            Electricity   R-squared:                       0.296\n",
       "Model:                            OLS   Adj. R-squared:                  0.296\n",
       "Method:                 Least Squares   F-statistic:                 3.642e+06\n",
       "Date:                Thu, 03 Dec 2020   Prob (F-statistic):               0.00\n",
       "Time:                        13:50:46   Log-Likelihood:            -6.2222e+07\n",
       "No. Observations:             8675799   AIC:                         1.244e+08\n",
       "Df Residuals:                 8675797   BIC:                         1.244e+08\n",
       "Df Model:                           1                                         \n",
       "Covariance Type:            nonrobust                                         \n",
       "=============================================================================================================\n",
       "                                                coef    std err          t      P>|t|      [0.025      0.975]\n",
       "-------------------------------------------------------------------------------------------------------------\n",
       "const                                      9.035e-11   4.74e-14   1907.855      0.000    9.03e-11    9.04e-11\n",
       "timestamp                                  7.515e-19   9.48e-20      7.927      0.000    5.66e-19    9.37e-19\n",
       "building_id                                5.355e-07   2.81e-10   1907.855      0.000    5.35e-07    5.36e-07\n",
       "site_id                                    6.997e-09   3.67e-12   1907.855      0.000    6.99e-09       7e-09\n",
       "square_feet                                   0.0018    9.6e-07   1907.855      0.000       0.002       0.002\n",
       "year_built                                 5.171e-08   2.71e-11   1907.855      0.000    5.17e-08    5.18e-08\n",
       "floor_count                                3.951e-09   2.07e-12   1907.855      0.000    3.95e-09    3.95e-09\n",
       "air_temperature                           -1.328e-09   6.96e-13  -1907.855      0.000   -1.33e-09   -1.33e-09\n",
       "cloud_coverage                            -1.101e-09   5.77e-13  -1907.855      0.000    -1.1e-09    -1.1e-09\n",
       "dew_temperature                            -4.47e-09   2.34e-12  -1907.855      0.000   -4.47e-09   -4.47e-09\n",
       "precip_depth_1_hr                          6.402e-10   3.36e-13   1907.855      0.000    6.39e-10    6.41e-10\n",
       "sea_level_pressure                         1.827e-08   9.57e-12   1907.855      0.000    1.82e-08    1.83e-08\n",
       "wind_direction                             -3.01e-08   1.58e-11  -1907.855      0.000   -3.01e-08   -3.01e-08\n",
       "wind_speed                                -1.433e-09   7.51e-13  -1907.855      0.000   -1.43e-09   -1.43e-09\n",
       "primary_use_Entertainment/public assembly   -2.2e-10   1.15e-13  -1907.855      0.000    -2.2e-10    -2.2e-10\n",
       "primary_use_Food sales and service        -2.847e-11   1.49e-14  -1907.855      0.000   -2.85e-11   -2.84e-11\n",
       "primary_use_Healthcare                     1.165e-10   6.11e-14   1907.855      0.000    1.16e-10    1.17e-10\n",
       "primary_use_Lodging/residential           -1.059e-10   5.55e-14  -1907.855      0.000   -1.06e-10   -1.06e-10\n",
       "primary_use_Manufacturing/industrial      -6.151e-11   3.22e-14  -1907.855      0.000   -6.16e-11   -6.14e-11\n",
       "primary_use_Office                        -1.577e-10   8.27e-14  -1907.855      0.000   -1.58e-10   -1.58e-10\n",
       "primary_use_Other                         -1.528e-10   8.01e-14  -1907.855      0.000   -1.53e-10   -1.53e-10\n",
       "primary_use_Parking                        4.362e-10   2.29e-13   1907.855      0.000    4.36e-10    4.37e-10\n",
       "primary_use_Public services               -4.347e-10   2.28e-13  -1907.855      0.000   -4.35e-10   -4.34e-10\n",
       "primary_use_Religious worship             -2.472e-11    1.3e-14  -1907.855      0.000   -2.47e-11   -2.47e-11\n",
       "primary_use_Retail                        -6.114e-11    3.2e-14  -1907.855      0.000   -6.12e-11   -6.11e-11\n",
       "primary_use_Services                       1.126e-10    5.9e-14   1907.855      0.000    1.12e-10    1.13e-10\n",
       "primary_use_Technology/science            -2.055e-11   1.08e-14  -1907.855      0.000   -2.06e-11   -2.05e-11\n",
       "primary_use_Utility                       -2.415e-11   1.27e-14  -1907.855      0.000   -2.42e-11   -2.41e-11\n",
       "primary_use_Warehouse/storage             -6.193e-11   3.25e-14  -1907.855      0.000    -6.2e-11   -6.19e-11\n",
       "==============================================================================\n",
       "Omnibus:                 15455159.725   Durbin-Watson:                   1.999\n",
       "Prob(Omnibus):                  0.000   Jarque-Bera (JB):     202947249283.526\n",
       "Skew:                          11.930   Prob(JB):                         0.00\n",
       "Kurtosis:                     751.897   Cond. No.                     1.62e+18\n",
       "==============================================================================\n",
       "\n",
       "Notes:\n",
       "[1] Standard Errors assume that the covariance matrix of the errors is correctly specified.\n",
       "[2] The condition number is large, 1.62e+18. This might indicate that there are\n",
       "strong multicollinearity or other numerical problems.\n",
       "\"\"\""
      ]
     },
     "execution_count": 13,
     "metadata": {},
     "output_type": "execute_result"
    }
   ],
   "source": [
    "X = train_weather_df.drop(columns=y_cols)\n",
    "#X = X.drop(columns='dew_temperature')\n",
    "X = sm.add_constant(X)\n",
    "Y = train_weather_df[y_pred_col]\n",
    "X['timestamp'] = X['timestamp'].astype('datetime64').astype(int)\n",
    "X = pd.get_dummies(X,drop_first=True)\n",
    "X_train, X_test, y_train, y_test = train_test_split(X,Y,test_size=0.3,random_state=42)\n",
    "X_train=X_train.fillna(X_train.mean())         #To assign a value which is outside the range of values\n",
    "y_train=y_train.fillna(y_train.mean()) \n",
    "\n",
    "# Create the model\n",
    "ols2 = sm.OLS(y_train, X_train,missing='raise')\n",
    "# Fit the model with fit() \n",
    "result2 = ols2.fit()\n",
    "# Evaluate the model with .summary()\n",
    "result2.summary()"
   ]
  },
  {
   "cell_type": "markdown",
   "metadata": {},
   "source": [
    "### OLS 3 drop column - 'dew_temperature'"
   ]
  },
  {
   "cell_type": "code",
   "execution_count": 14,
   "metadata": {},
   "outputs": [
    {
     "data": {
      "text/plain": [
       "0.2956674618720584"
      ]
     },
     "execution_count": 14,
     "metadata": {},
     "output_type": "execute_result"
    }
   ],
   "source": [
    "X = train_weather_df.drop(columns=y_cols)\n",
    "X = X.drop(columns='dew_temperature')\n",
    "X = sm.add_constant(X)\n",
    "Y = train_weather_df[y_pred_col]\n",
    "X['timestamp'] = X['timestamp'].astype('datetime64').astype(int)\n",
    "X = pd.get_dummies(X,drop_first=True)\n",
    "X_train, X_test, y_train, y_test = train_test_split(X,Y,test_size=0.3,random_state=42)\n",
    "X_train=X_train.fillna(X_train.mean())         #To assign a value which is outside the range of values\n",
    "y_train=y_train.fillna(y_train.mean()) \n",
    "\n",
    "# Create the model\n",
    "ols3 = sm.OLS(y_train, X_train,missing='raise')\n",
    "# Fit the model with fit() \n",
    "result3 = ols3.fit()\n",
    "# Evaluate the model with .summary()\n",
    "result3.rsquared"
   ]
  },
  {
   "cell_type": "code",
   "execution_count": 15,
   "metadata": {},
   "outputs": [
    {
     "data": {
      "text/html": [
       "<table class=\"simpletable\">\n",
       "<caption>OLS Regression Results</caption>\n",
       "<tr>\n",
       "  <th>Dep. Variable:</th>       <td>Electricity</td>   <th>  R-squared:         </th>  <td>   0.296</td>  \n",
       "</tr>\n",
       "<tr>\n",
       "  <th>Model:</th>                   <td>OLS</td>       <th>  Adj. R-squared:    </th>  <td>   0.296</td>  \n",
       "</tr>\n",
       "<tr>\n",
       "  <th>Method:</th>             <td>Least Squares</td>  <th>  F-statistic:       </th>  <td>3.642e+06</td> \n",
       "</tr>\n",
       "<tr>\n",
       "  <th>Date:</th>             <td>Thu, 03 Dec 2020</td> <th>  Prob (F-statistic):</th>   <td>  0.00</td>   \n",
       "</tr>\n",
       "<tr>\n",
       "  <th>Time:</th>                 <td>13:56:38</td>     <th>  Log-Likelihood:    </th> <td>-6.2222e+07</td>\n",
       "</tr>\n",
       "<tr>\n",
       "  <th>No. Observations:</th>      <td>8675799</td>     <th>  AIC:               </th>  <td>1.244e+08</td> \n",
       "</tr>\n",
       "<tr>\n",
       "  <th>Df Residuals:</th>          <td>8675797</td>     <th>  BIC:               </th>  <td>1.244e+08</td> \n",
       "</tr>\n",
       "<tr>\n",
       "  <th>Df Model:</th>              <td>     1</td>      <th>                     </th>      <td> </td>     \n",
       "</tr>\n",
       "<tr>\n",
       "  <th>Covariance Type:</th>      <td>nonrobust</td>    <th>                     </th>      <td> </td>     \n",
       "</tr>\n",
       "</table>\n",
       "<table class=\"simpletable\">\n",
       "<tr>\n",
       "                      <td></td>                         <th>coef</th>     <th>std err</th>      <th>t</th>      <th>P>|t|</th>  <th>[0.025</th>    <th>0.975]</th>  \n",
       "</tr>\n",
       "<tr>\n",
       "  <th>const</th>                                     <td> 9.035e-11</td> <td> 4.74e-14</td> <td> 1907.855</td> <td> 0.000</td> <td> 9.03e-11</td> <td> 9.04e-11</td>\n",
       "</tr>\n",
       "<tr>\n",
       "  <th>timestamp</th>                                 <td> 7.515e-19</td> <td> 9.48e-20</td> <td>    7.927</td> <td> 0.000</td> <td> 5.66e-19</td> <td> 9.37e-19</td>\n",
       "</tr>\n",
       "<tr>\n",
       "  <th>building_id</th>                               <td> 5.355e-07</td> <td> 2.81e-10</td> <td> 1907.855</td> <td> 0.000</td> <td> 5.35e-07</td> <td> 5.36e-07</td>\n",
       "</tr>\n",
       "<tr>\n",
       "  <th>site_id</th>                                   <td> 6.997e-09</td> <td> 3.67e-12</td> <td> 1907.855</td> <td> 0.000</td> <td> 6.99e-09</td> <td>    7e-09</td>\n",
       "</tr>\n",
       "<tr>\n",
       "  <th>square_feet</th>                               <td>    0.0018</td> <td>  9.6e-07</td> <td> 1907.855</td> <td> 0.000</td> <td>    0.002</td> <td>    0.002</td>\n",
       "</tr>\n",
       "<tr>\n",
       "  <th>year_built</th>                                <td> 5.171e-08</td> <td> 2.71e-11</td> <td> 1907.855</td> <td> 0.000</td> <td> 5.17e-08</td> <td> 5.18e-08</td>\n",
       "</tr>\n",
       "<tr>\n",
       "  <th>floor_count</th>                               <td> 3.951e-09</td> <td> 2.07e-12</td> <td> 1907.855</td> <td> 0.000</td> <td> 3.95e-09</td> <td> 3.95e-09</td>\n",
       "</tr>\n",
       "<tr>\n",
       "  <th>air_temperature</th>                           <td>-1.328e-09</td> <td> 6.96e-13</td> <td>-1907.855</td> <td> 0.000</td> <td>-1.33e-09</td> <td>-1.33e-09</td>\n",
       "</tr>\n",
       "<tr>\n",
       "  <th>cloud_coverage</th>                            <td>-1.101e-09</td> <td> 5.77e-13</td> <td>-1907.855</td> <td> 0.000</td> <td> -1.1e-09</td> <td> -1.1e-09</td>\n",
       "</tr>\n",
       "<tr>\n",
       "  <th>precip_depth_1_hr</th>                         <td> 6.402e-10</td> <td> 3.36e-13</td> <td> 1907.855</td> <td> 0.000</td> <td> 6.39e-10</td> <td> 6.41e-10</td>\n",
       "</tr>\n",
       "<tr>\n",
       "  <th>sea_level_pressure</th>                        <td> 1.827e-08</td> <td> 9.57e-12</td> <td> 1907.855</td> <td> 0.000</td> <td> 1.82e-08</td> <td> 1.83e-08</td>\n",
       "</tr>\n",
       "<tr>\n",
       "  <th>wind_direction</th>                            <td> -3.01e-08</td> <td> 1.58e-11</td> <td>-1907.855</td> <td> 0.000</td> <td>-3.01e-08</td> <td>-3.01e-08</td>\n",
       "</tr>\n",
       "<tr>\n",
       "  <th>wind_speed</th>                                <td>-1.433e-09</td> <td> 7.51e-13</td> <td>-1907.855</td> <td> 0.000</td> <td>-1.43e-09</td> <td>-1.43e-09</td>\n",
       "</tr>\n",
       "<tr>\n",
       "  <th>primary_use_Entertainment/public assembly</th> <td>  -2.2e-10</td> <td> 1.15e-13</td> <td>-1907.855</td> <td> 0.000</td> <td> -2.2e-10</td> <td> -2.2e-10</td>\n",
       "</tr>\n",
       "<tr>\n",
       "  <th>primary_use_Food sales and service</th>        <td>-2.847e-11</td> <td> 1.49e-14</td> <td>-1907.855</td> <td> 0.000</td> <td>-2.85e-11</td> <td>-2.84e-11</td>\n",
       "</tr>\n",
       "<tr>\n",
       "  <th>primary_use_Healthcare</th>                    <td> 1.165e-10</td> <td> 6.11e-14</td> <td> 1907.855</td> <td> 0.000</td> <td> 1.16e-10</td> <td> 1.17e-10</td>\n",
       "</tr>\n",
       "<tr>\n",
       "  <th>primary_use_Lodging/residential</th>           <td>-1.059e-10</td> <td> 5.55e-14</td> <td>-1907.855</td> <td> 0.000</td> <td>-1.06e-10</td> <td>-1.06e-10</td>\n",
       "</tr>\n",
       "<tr>\n",
       "  <th>primary_use_Manufacturing/industrial</th>      <td>-6.151e-11</td> <td> 3.22e-14</td> <td>-1907.855</td> <td> 0.000</td> <td>-6.16e-11</td> <td>-6.14e-11</td>\n",
       "</tr>\n",
       "<tr>\n",
       "  <th>primary_use_Office</th>                        <td>-1.577e-10</td> <td> 8.27e-14</td> <td>-1907.855</td> <td> 0.000</td> <td>-1.58e-10</td> <td>-1.58e-10</td>\n",
       "</tr>\n",
       "<tr>\n",
       "  <th>primary_use_Other</th>                         <td>-1.528e-10</td> <td> 8.01e-14</td> <td>-1907.855</td> <td> 0.000</td> <td>-1.53e-10</td> <td>-1.53e-10</td>\n",
       "</tr>\n",
       "<tr>\n",
       "  <th>primary_use_Parking</th>                       <td> 4.362e-10</td> <td> 2.29e-13</td> <td> 1907.855</td> <td> 0.000</td> <td> 4.36e-10</td> <td> 4.37e-10</td>\n",
       "</tr>\n",
       "<tr>\n",
       "  <th>primary_use_Public services</th>               <td>-4.347e-10</td> <td> 2.28e-13</td> <td>-1907.855</td> <td> 0.000</td> <td>-4.35e-10</td> <td>-4.34e-10</td>\n",
       "</tr>\n",
       "<tr>\n",
       "  <th>primary_use_Religious worship</th>             <td>-2.472e-11</td> <td>  1.3e-14</td> <td>-1907.855</td> <td> 0.000</td> <td>-2.47e-11</td> <td>-2.47e-11</td>\n",
       "</tr>\n",
       "<tr>\n",
       "  <th>primary_use_Retail</th>                        <td>-6.114e-11</td> <td>  3.2e-14</td> <td>-1907.855</td> <td> 0.000</td> <td>-6.12e-11</td> <td>-6.11e-11</td>\n",
       "</tr>\n",
       "<tr>\n",
       "  <th>primary_use_Services</th>                      <td> 1.126e-10</td> <td>  5.9e-14</td> <td> 1907.855</td> <td> 0.000</td> <td> 1.12e-10</td> <td> 1.13e-10</td>\n",
       "</tr>\n",
       "<tr>\n",
       "  <th>primary_use_Technology/science</th>            <td>-2.055e-11</td> <td> 1.08e-14</td> <td>-1907.855</td> <td> 0.000</td> <td>-2.06e-11</td> <td>-2.05e-11</td>\n",
       "</tr>\n",
       "<tr>\n",
       "  <th>primary_use_Utility</th>                       <td>-2.415e-11</td> <td> 1.27e-14</td> <td>-1907.855</td> <td> 0.000</td> <td>-2.42e-11</td> <td>-2.41e-11</td>\n",
       "</tr>\n",
       "<tr>\n",
       "  <th>primary_use_Warehouse/storage</th>             <td>-6.193e-11</td> <td> 3.25e-14</td> <td>-1907.855</td> <td> 0.000</td> <td> -6.2e-11</td> <td>-6.19e-11</td>\n",
       "</tr>\n",
       "</table>\n",
       "<table class=\"simpletable\">\n",
       "<tr>\n",
       "  <th>Omnibus:</th>       <td>15455159.725</td> <th>  Durbin-Watson:     </th>     <td>   1.999</td>    \n",
       "</tr>\n",
       "<tr>\n",
       "  <th>Prob(Omnibus):</th>    <td> 0.000</td>    <th>  Jarque-Bera (JB):  </th> <td>202947249286.978</td>\n",
       "</tr>\n",
       "<tr>\n",
       "  <th>Skew:</th>             <td>11.930</td>    <th>  Prob(JB):          </th>     <td>    0.00</td>    \n",
       "</tr>\n",
       "<tr>\n",
       "  <th>Kurtosis:</th>         <td>751.897</td>   <th>  Cond. No.          </th>     <td>1.62e+18</td>    \n",
       "</tr>\n",
       "</table><br/><br/>Notes:<br/>[1] Standard Errors assume that the covariance matrix of the errors is correctly specified.<br/>[2] The condition number is large, 1.62e+18. This might indicate that there are<br/>strong multicollinearity or other numerical problems."
      ],
      "text/plain": [
       "<class 'statsmodels.iolib.summary.Summary'>\n",
       "\"\"\"\n",
       "                            OLS Regression Results                            \n",
       "==============================================================================\n",
       "Dep. Variable:            Electricity   R-squared:                       0.296\n",
       "Model:                            OLS   Adj. R-squared:                  0.296\n",
       "Method:                 Least Squares   F-statistic:                 3.642e+06\n",
       "Date:                Thu, 03 Dec 2020   Prob (F-statistic):               0.00\n",
       "Time:                        13:56:38   Log-Likelihood:            -6.2222e+07\n",
       "No. Observations:             8675799   AIC:                         1.244e+08\n",
       "Df Residuals:                 8675797   BIC:                         1.244e+08\n",
       "Df Model:                           1                                         \n",
       "Covariance Type:            nonrobust                                         \n",
       "=============================================================================================================\n",
       "                                                coef    std err          t      P>|t|      [0.025      0.975]\n",
       "-------------------------------------------------------------------------------------------------------------\n",
       "const                                      9.035e-11   4.74e-14   1907.855      0.000    9.03e-11    9.04e-11\n",
       "timestamp                                  7.515e-19   9.48e-20      7.927      0.000    5.66e-19    9.37e-19\n",
       "building_id                                5.355e-07   2.81e-10   1907.855      0.000    5.35e-07    5.36e-07\n",
       "site_id                                    6.997e-09   3.67e-12   1907.855      0.000    6.99e-09       7e-09\n",
       "square_feet                                   0.0018    9.6e-07   1907.855      0.000       0.002       0.002\n",
       "year_built                                 5.171e-08   2.71e-11   1907.855      0.000    5.17e-08    5.18e-08\n",
       "floor_count                                3.951e-09   2.07e-12   1907.855      0.000    3.95e-09    3.95e-09\n",
       "air_temperature                           -1.328e-09   6.96e-13  -1907.855      0.000   -1.33e-09   -1.33e-09\n",
       "cloud_coverage                            -1.101e-09   5.77e-13  -1907.855      0.000    -1.1e-09    -1.1e-09\n",
       "precip_depth_1_hr                          6.402e-10   3.36e-13   1907.855      0.000    6.39e-10    6.41e-10\n",
       "sea_level_pressure                         1.827e-08   9.57e-12   1907.855      0.000    1.82e-08    1.83e-08\n",
       "wind_direction                             -3.01e-08   1.58e-11  -1907.855      0.000   -3.01e-08   -3.01e-08\n",
       "wind_speed                                -1.433e-09   7.51e-13  -1907.855      0.000   -1.43e-09   -1.43e-09\n",
       "primary_use_Entertainment/public assembly   -2.2e-10   1.15e-13  -1907.855      0.000    -2.2e-10    -2.2e-10\n",
       "primary_use_Food sales and service        -2.847e-11   1.49e-14  -1907.855      0.000   -2.85e-11   -2.84e-11\n",
       "primary_use_Healthcare                     1.165e-10   6.11e-14   1907.855      0.000    1.16e-10    1.17e-10\n",
       "primary_use_Lodging/residential           -1.059e-10   5.55e-14  -1907.855      0.000   -1.06e-10   -1.06e-10\n",
       "primary_use_Manufacturing/industrial      -6.151e-11   3.22e-14  -1907.855      0.000   -6.16e-11   -6.14e-11\n",
       "primary_use_Office                        -1.577e-10   8.27e-14  -1907.855      0.000   -1.58e-10   -1.58e-10\n",
       "primary_use_Other                         -1.528e-10   8.01e-14  -1907.855      0.000   -1.53e-10   -1.53e-10\n",
       "primary_use_Parking                        4.362e-10   2.29e-13   1907.855      0.000    4.36e-10    4.37e-10\n",
       "primary_use_Public services               -4.347e-10   2.28e-13  -1907.855      0.000   -4.35e-10   -4.34e-10\n",
       "primary_use_Religious worship             -2.472e-11    1.3e-14  -1907.855      0.000   -2.47e-11   -2.47e-11\n",
       "primary_use_Retail                        -6.114e-11    3.2e-14  -1907.855      0.000   -6.12e-11   -6.11e-11\n",
       "primary_use_Services                       1.126e-10    5.9e-14   1907.855      0.000    1.12e-10    1.13e-10\n",
       "primary_use_Technology/science            -2.055e-11   1.08e-14  -1907.855      0.000   -2.06e-11   -2.05e-11\n",
       "primary_use_Utility                       -2.415e-11   1.27e-14  -1907.855      0.000   -2.42e-11   -2.41e-11\n",
       "primary_use_Warehouse/storage             -6.193e-11   3.25e-14  -1907.855      0.000    -6.2e-11   -6.19e-11\n",
       "==============================================================================\n",
       "Omnibus:                 15455159.725   Durbin-Watson:                   1.999\n",
       "Prob(Omnibus):                  0.000   Jarque-Bera (JB):     202947249286.978\n",
       "Skew:                          11.930   Prob(JB):                         0.00\n",
       "Kurtosis:                     751.897   Cond. No.                     1.62e+18\n",
       "==============================================================================\n",
       "\n",
       "Notes:\n",
       "[1] Standard Errors assume that the covariance matrix of the errors is correctly specified.\n",
       "[2] The condition number is large, 1.62e+18. This might indicate that there are\n",
       "strong multicollinearity or other numerical problems.\n",
       "\"\"\""
      ]
     },
     "execution_count": 15,
     "metadata": {},
     "output_type": "execute_result"
    }
   ],
   "source": [
    "result3.summary()"
   ]
  },
  {
   "cell_type": "code",
   "execution_count": 16,
   "metadata": {},
   "outputs": [],
   "source": [
    "#Dropping the due_temperature does not make any difference in the model performance."
   ]
  },
  {
   "cell_type": "markdown",
   "metadata": {},
   "source": [
    "### OLS 4 - Review results by considering one site at a time instead of combining all sites."
   ]
  },
  {
   "cell_type": "code",
   "execution_count": 17,
   "metadata": {},
   "outputs": [
    {
     "name": "stdout",
     "output_type": "stream",
     "text": [
      "rsquared for site id 0 is :0.02146979720848674\n",
      "rsquared for site id 1 is :0.36859906094328754\n",
      "rsquared for site id 2 is :0.13648395735730667\n",
      "rsquared for site id 3 is :0.6995548786721878\n",
      "rsquared for site id 4 is :0.38363298708968374\n",
      "rsquared for site id 5 is :0.3561353689797019\n",
      "rsquared for site id 6 is :0.2625532220145984\n",
      "rsquared for site id 7 is :0.19218914118091013\n",
      "rsquared for site id 8 is :0.7650301754177116\n",
      "rsquared for site id 9 is :0.32123406563361256\n",
      "rsquared for site id 10 is :0.15572005193350458\n",
      "rsquared for site id 11 is :0.2393932614318116\n",
      "rsquared for site id 12 is :0.37111554151772574\n",
      "rsquared for site id 13 is :0.2603808283964725\n",
      "rsquared for site id 14 is :0.5138401176350332\n",
      "rsquared for site id 15 is :0.43951065293262237\n"
     ]
    }
   ],
   "source": [
    "for i in pd.unique(train_weather_df.site_id):\n",
    "    X = train_weather_df[train_weather_df.site_id == i].drop(columns=y_cols)\n",
    "    X = sm.add_constant(X)\n",
    "    Y = train_weather_df[train_weather_df.site_id == i][y_pred_col]\n",
    "    X['timestamp'] = X['timestamp'].astype('datetime64').astype(int)\n",
    "    X = pd.get_dummies(X,drop_first=True)\n",
    "    X_train, X_test, y_train, y_test = train_test_split(X,Y,test_size=0.3,random_state=42)\n",
    "    X_train=X_train.fillna(X_train.mean())         #To assign a value which is outside the range of values\n",
    "    y_train=y_train.fillna(y_train.mean()) \n",
    "\n",
    "    # Create the model\n",
    "    ols4 = sm.OLS(y_train, X_train,missing='raise')\n",
    "    # Fit the model with fit() \n",
    "    result4 = ols4.fit()\n",
    "    # Evaluate the model with .summary()\n",
    "    print(\"rsquared for site id {} is :{}\".format(i,result4.rsquared))"
   ]
  },
  {
   "cell_type": "code",
   "execution_count": 18,
   "metadata": {},
   "outputs": [],
   "source": [
    "#On average linear regression performs much better per site-id than my considering the whole dataset together."
   ]
  },
  {
   "cell_type": "markdown",
   "metadata": {},
   "source": [
    "# Stationarize the timeseries"
   ]
  },
  {
   "cell_type": "markdown",
   "metadata": {},
   "source": [
    "***In a timeseries observations are time dependent and can have seasonality,trend,autocorrelation. <br>\n",
    "Let us first visualize this and then check if the timeseries is stationary with a Dickey-Fuller test***"
   ]
  },
  {
   "cell_type": "code",
   "execution_count": 24,
   "metadata": {},
   "outputs": [
    {
     "ename": "KeyboardInterrupt",
     "evalue": "",
     "output_type": "error",
     "traceback": [
      "\u001b[0;31m---------------------------------------------------------------------------\u001b[0m",
      "\u001b[0;31mKeyboardInterrupt\u001b[0m                         Traceback (most recent call last)",
      "\u001b[0;32m<ipython-input-24-5a591827d6c0>\u001b[0m in \u001b[0;36m<module>\u001b[0;34m\u001b[0m\n\u001b[1;32m      8\u001b[0m \u001b[0;31m#for i,col in enumerate(train_weather_df.columns):\u001b[0m\u001b[0;34m\u001b[0m\u001b[0;34m\u001b[0m\u001b[0;34m\u001b[0m\u001b[0m\n\u001b[1;32m      9\u001b[0m  \u001b[0;31m#   axs[i] = plot_acf(train_weather_df[col], lags=31)\u001b[0m\u001b[0;34m\u001b[0m\u001b[0;34m\u001b[0m\u001b[0;34m\u001b[0m\u001b[0m\n\u001b[0;32m---> 10\u001b[0;31m \u001b[0mplot_acf\u001b[0m\u001b[0;34m(\u001b[0m\u001b[0mtrain_weather_df\u001b[0m\u001b[0;34m[\u001b[0m\u001b[0mtrain_weather_df\u001b[0m\u001b[0;34m.\u001b[0m\u001b[0msite_id\u001b[0m \u001b[0;34m==\u001b[0m \u001b[0;36m0\u001b[0m\u001b[0;34m]\u001b[0m\u001b[0;34m[\u001b[0m\u001b[0;34m'Electricity'\u001b[0m\u001b[0;34m]\u001b[0m\u001b[0;34m,\u001b[0m \u001b[0mlags\u001b[0m\u001b[0;34m=\u001b[0m\u001b[0;36m31\u001b[0m\u001b[0;34m)\u001b[0m\u001b[0;34m\u001b[0m\u001b[0;34m\u001b[0m\u001b[0m\n\u001b[0m\u001b[1;32m     11\u001b[0m \u001b[0mplt\u001b[0m\u001b[0;34m.\u001b[0m\u001b[0mshow\u001b[0m\u001b[0;34m(\u001b[0m\u001b[0;34m)\u001b[0m\u001b[0;34m\u001b[0m\u001b[0;34m\u001b[0m\u001b[0m\n",
      "\u001b[0;32m~/opt/anaconda3/envs/cap2/lib/python3.8/site-packages/pandas/util/_decorators.py\u001b[0m in \u001b[0;36mwrapper\u001b[0;34m(*args, **kwargs)\u001b[0m\n\u001b[1;32m    197\u001b[0m                 \u001b[0;32melse\u001b[0m\u001b[0;34m:\u001b[0m\u001b[0;34m\u001b[0m\u001b[0;34m\u001b[0m\u001b[0m\n\u001b[1;32m    198\u001b[0m                     \u001b[0mkwargs\u001b[0m\u001b[0;34m[\u001b[0m\u001b[0mnew_arg_name\u001b[0m\u001b[0;34m]\u001b[0m \u001b[0;34m=\u001b[0m \u001b[0mnew_arg_value\u001b[0m\u001b[0;34m\u001b[0m\u001b[0;34m\u001b[0m\u001b[0m\n\u001b[0;32m--> 199\u001b[0;31m             \u001b[0;32mreturn\u001b[0m \u001b[0mfunc\u001b[0m\u001b[0;34m(\u001b[0m\u001b[0;34m*\u001b[0m\u001b[0margs\u001b[0m\u001b[0;34m,\u001b[0m \u001b[0;34m**\u001b[0m\u001b[0mkwargs\u001b[0m\u001b[0;34m)\u001b[0m\u001b[0;34m\u001b[0m\u001b[0;34m\u001b[0m\u001b[0m\n\u001b[0m\u001b[1;32m    200\u001b[0m \u001b[0;34m\u001b[0m\u001b[0m\n\u001b[1;32m    201\u001b[0m         \u001b[0;32mreturn\u001b[0m \u001b[0mcast\u001b[0m\u001b[0;34m(\u001b[0m\u001b[0mF\u001b[0m\u001b[0;34m,\u001b[0m \u001b[0mwrapper\u001b[0m\u001b[0;34m)\u001b[0m\u001b[0;34m\u001b[0m\u001b[0;34m\u001b[0m\u001b[0m\n",
      "\u001b[0;32m~/opt/anaconda3/envs/cap2/lib/python3.8/site-packages/statsmodels/graphics/tsaplots.py\u001b[0m in \u001b[0;36mplot_acf\u001b[0;34m(x, ax, lags, alpha, use_vlines, adjusted, fft, missing, title, zero, vlines_kwargs, **kwargs)\u001b[0m\n\u001b[1;32m    175\u001b[0m     \u001b[0mconfint\u001b[0m \u001b[0;34m=\u001b[0m \u001b[0;32mNone\u001b[0m\u001b[0;34m\u001b[0m\u001b[0;34m\u001b[0m\u001b[0m\n\u001b[1;32m    176\u001b[0m     \u001b[0;31m# acf has different return type based on alpha\u001b[0m\u001b[0;34m\u001b[0m\u001b[0;34m\u001b[0m\u001b[0;34m\u001b[0m\u001b[0m\n\u001b[0;32m--> 177\u001b[0;31m     acf_x = acf(\n\u001b[0m\u001b[1;32m    178\u001b[0m         \u001b[0mx\u001b[0m\u001b[0;34m,\u001b[0m\u001b[0;34m\u001b[0m\u001b[0;34m\u001b[0m\u001b[0m\n\u001b[1;32m    179\u001b[0m         \u001b[0mnlags\u001b[0m\u001b[0;34m=\u001b[0m\u001b[0mnlags\u001b[0m\u001b[0;34m,\u001b[0m\u001b[0;34m\u001b[0m\u001b[0;34m\u001b[0m\u001b[0m\n",
      "\u001b[0;32m~/opt/anaconda3/envs/cap2/lib/python3.8/site-packages/pandas/util/_decorators.py\u001b[0m in \u001b[0;36mwrapper\u001b[0;34m(*args, **kwargs)\u001b[0m\n\u001b[1;32m    197\u001b[0m                 \u001b[0;32melse\u001b[0m\u001b[0;34m:\u001b[0m\u001b[0;34m\u001b[0m\u001b[0;34m\u001b[0m\u001b[0m\n\u001b[1;32m    198\u001b[0m                     \u001b[0mkwargs\u001b[0m\u001b[0;34m[\u001b[0m\u001b[0mnew_arg_name\u001b[0m\u001b[0;34m]\u001b[0m \u001b[0;34m=\u001b[0m \u001b[0mnew_arg_value\u001b[0m\u001b[0;34m\u001b[0m\u001b[0;34m\u001b[0m\u001b[0m\n\u001b[0;32m--> 199\u001b[0;31m             \u001b[0;32mreturn\u001b[0m \u001b[0mfunc\u001b[0m\u001b[0;34m(\u001b[0m\u001b[0;34m*\u001b[0m\u001b[0margs\u001b[0m\u001b[0;34m,\u001b[0m \u001b[0;34m**\u001b[0m\u001b[0mkwargs\u001b[0m\u001b[0;34m)\u001b[0m\u001b[0;34m\u001b[0m\u001b[0;34m\u001b[0m\u001b[0m\n\u001b[0m\u001b[1;32m    200\u001b[0m \u001b[0;34m\u001b[0m\u001b[0m\n\u001b[1;32m    201\u001b[0m         \u001b[0;32mreturn\u001b[0m \u001b[0mcast\u001b[0m\u001b[0;34m(\u001b[0m\u001b[0mF\u001b[0m\u001b[0;34m,\u001b[0m \u001b[0mwrapper\u001b[0m\u001b[0;34m)\u001b[0m\u001b[0;34m\u001b[0m\u001b[0;34m\u001b[0m\u001b[0m\n",
      "\u001b[0;32m~/opt/anaconda3/envs/cap2/lib/python3.8/site-packages/statsmodels/tsa/stattools.py\u001b[0m in \u001b[0;36macf\u001b[0;34m(x, adjusted, nlags, qstat, fft, alpha, missing)\u001b[0m\n\u001b[1;32m    669\u001b[0m     \u001b[0mx\u001b[0m \u001b[0;34m=\u001b[0m \u001b[0marray_like\u001b[0m\u001b[0;34m(\u001b[0m\u001b[0mx\u001b[0m\u001b[0;34m,\u001b[0m \u001b[0;34m\"x\"\u001b[0m\u001b[0;34m)\u001b[0m\u001b[0;34m\u001b[0m\u001b[0;34m\u001b[0m\u001b[0m\n\u001b[1;32m    670\u001b[0m     \u001b[0mnobs\u001b[0m \u001b[0;34m=\u001b[0m \u001b[0mlen\u001b[0m\u001b[0;34m(\u001b[0m\u001b[0mx\u001b[0m\u001b[0;34m)\u001b[0m  \u001b[0;31m# TODO: should this shrink for missing=\"drop\" and NaNs in x?\u001b[0m\u001b[0;34m\u001b[0m\u001b[0;34m\u001b[0m\u001b[0m\n\u001b[0;32m--> 671\u001b[0;31m     \u001b[0mavf\u001b[0m \u001b[0;34m=\u001b[0m \u001b[0macovf\u001b[0m\u001b[0;34m(\u001b[0m\u001b[0mx\u001b[0m\u001b[0;34m,\u001b[0m \u001b[0madjusted\u001b[0m\u001b[0;34m=\u001b[0m\u001b[0madjusted\u001b[0m\u001b[0;34m,\u001b[0m \u001b[0mdemean\u001b[0m\u001b[0;34m=\u001b[0m\u001b[0;32mTrue\u001b[0m\u001b[0;34m,\u001b[0m \u001b[0mfft\u001b[0m\u001b[0;34m=\u001b[0m\u001b[0mfft\u001b[0m\u001b[0;34m,\u001b[0m \u001b[0mmissing\u001b[0m\u001b[0;34m=\u001b[0m\u001b[0mmissing\u001b[0m\u001b[0;34m)\u001b[0m\u001b[0;34m\u001b[0m\u001b[0;34m\u001b[0m\u001b[0m\n\u001b[0m\u001b[1;32m    672\u001b[0m     \u001b[0macf\u001b[0m \u001b[0;34m=\u001b[0m \u001b[0mavf\u001b[0m\u001b[0;34m[\u001b[0m\u001b[0;34m:\u001b[0m \u001b[0mnlags\u001b[0m \u001b[0;34m+\u001b[0m \u001b[0;36m1\u001b[0m\u001b[0;34m]\u001b[0m \u001b[0;34m/\u001b[0m \u001b[0mavf\u001b[0m\u001b[0;34m[\u001b[0m\u001b[0;36m0\u001b[0m\u001b[0;34m]\u001b[0m\u001b[0;34m\u001b[0m\u001b[0;34m\u001b[0m\u001b[0m\n\u001b[1;32m    673\u001b[0m     \u001b[0;32mif\u001b[0m \u001b[0;32mnot\u001b[0m \u001b[0;34m(\u001b[0m\u001b[0mqstat\u001b[0m \u001b[0;32mor\u001b[0m \u001b[0malpha\u001b[0m\u001b[0;34m)\u001b[0m\u001b[0;34m:\u001b[0m\u001b[0;34m\u001b[0m\u001b[0;34m\u001b[0m\u001b[0m\n",
      "\u001b[0;32m~/opt/anaconda3/envs/cap2/lib/python3.8/site-packages/pandas/util/_decorators.py\u001b[0m in \u001b[0;36mwrapper\u001b[0;34m(*args, **kwargs)\u001b[0m\n\u001b[1;32m    197\u001b[0m                 \u001b[0;32melse\u001b[0m\u001b[0;34m:\u001b[0m\u001b[0;34m\u001b[0m\u001b[0;34m\u001b[0m\u001b[0m\n\u001b[1;32m    198\u001b[0m                     \u001b[0mkwargs\u001b[0m\u001b[0;34m[\u001b[0m\u001b[0mnew_arg_name\u001b[0m\u001b[0;34m]\u001b[0m \u001b[0;34m=\u001b[0m \u001b[0mnew_arg_value\u001b[0m\u001b[0;34m\u001b[0m\u001b[0;34m\u001b[0m\u001b[0m\n\u001b[0;32m--> 199\u001b[0;31m             \u001b[0;32mreturn\u001b[0m \u001b[0mfunc\u001b[0m\u001b[0;34m(\u001b[0m\u001b[0;34m*\u001b[0m\u001b[0margs\u001b[0m\u001b[0;34m,\u001b[0m \u001b[0;34m**\u001b[0m\u001b[0mkwargs\u001b[0m\u001b[0;34m)\u001b[0m\u001b[0;34m\u001b[0m\u001b[0;34m\u001b[0m\u001b[0m\n\u001b[0m\u001b[1;32m    200\u001b[0m \u001b[0;34m\u001b[0m\u001b[0m\n\u001b[1;32m    201\u001b[0m         \u001b[0;32mreturn\u001b[0m \u001b[0mcast\u001b[0m\u001b[0;34m(\u001b[0m\u001b[0mF\u001b[0m\u001b[0;34m,\u001b[0m \u001b[0mwrapper\u001b[0m\u001b[0;34m)\u001b[0m\u001b[0;34m\u001b[0m\u001b[0;34m\u001b[0m\u001b[0m\n",
      "\u001b[0;32m~/opt/anaconda3/envs/cap2/lib/python3.8/site-packages/statsmodels/tsa/stattools.py\u001b[0m in \u001b[0;36macovf\u001b[0;34m(x, adjusted, demean, fft, missing, nlag)\u001b[0m\n\u001b[1;32m    516\u001b[0m         \u001b[0macov\u001b[0m \u001b[0;34m=\u001b[0m \u001b[0macov\u001b[0m\u001b[0;34m.\u001b[0m\u001b[0mreal\u001b[0m\u001b[0;34m\u001b[0m\u001b[0;34m\u001b[0m\u001b[0m\n\u001b[1;32m    517\u001b[0m     \u001b[0;32melse\u001b[0m\u001b[0;34m:\u001b[0m\u001b[0;34m\u001b[0m\u001b[0;34m\u001b[0m\u001b[0m\n\u001b[0;32m--> 518\u001b[0;31m         \u001b[0macov\u001b[0m \u001b[0;34m=\u001b[0m \u001b[0mnp\u001b[0m\u001b[0;34m.\u001b[0m\u001b[0mcorrelate\u001b[0m\u001b[0;34m(\u001b[0m\u001b[0mxo\u001b[0m\u001b[0;34m,\u001b[0m \u001b[0mxo\u001b[0m\u001b[0;34m,\u001b[0m \u001b[0;34m\"full\"\u001b[0m\u001b[0;34m)\u001b[0m\u001b[0;34m[\u001b[0m\u001b[0mn\u001b[0m \u001b[0;34m-\u001b[0m \u001b[0;36m1\u001b[0m \u001b[0;34m:\u001b[0m\u001b[0;34m]\u001b[0m \u001b[0;34m/\u001b[0m \u001b[0md\u001b[0m\u001b[0;34m[\u001b[0m\u001b[0mn\u001b[0m \u001b[0;34m-\u001b[0m \u001b[0;36m1\u001b[0m \u001b[0;34m:\u001b[0m\u001b[0;34m]\u001b[0m\u001b[0;34m\u001b[0m\u001b[0;34m\u001b[0m\u001b[0m\n\u001b[0m\u001b[1;32m    519\u001b[0m \u001b[0;34m\u001b[0m\u001b[0m\n\u001b[1;32m    520\u001b[0m     \u001b[0;32mif\u001b[0m \u001b[0mnlag\u001b[0m \u001b[0;32mis\u001b[0m \u001b[0;32mnot\u001b[0m \u001b[0;32mNone\u001b[0m\u001b[0;34m:\u001b[0m\u001b[0;34m\u001b[0m\u001b[0;34m\u001b[0m\u001b[0m\n",
      "\u001b[0;32m<__array_function__ internals>\u001b[0m in \u001b[0;36mcorrelate\u001b[0;34m(*args, **kwargs)\u001b[0m\n",
      "\u001b[0;32m~/opt/anaconda3/envs/cap2/lib/python3.8/site-packages/numpy/core/numeric.py\u001b[0m in \u001b[0;36mcorrelate\u001b[0;34m(a, v, mode)\u001b[0m\n\u001b[1;32m    711\u001b[0m     \"\"\"\n\u001b[1;32m    712\u001b[0m     \u001b[0mmode\u001b[0m \u001b[0;34m=\u001b[0m \u001b[0m_mode_from_name\u001b[0m\u001b[0;34m(\u001b[0m\u001b[0mmode\u001b[0m\u001b[0;34m)\u001b[0m\u001b[0;34m\u001b[0m\u001b[0;34m\u001b[0m\u001b[0m\n\u001b[0;32m--> 713\u001b[0;31m     \u001b[0;32mreturn\u001b[0m \u001b[0mmultiarray\u001b[0m\u001b[0;34m.\u001b[0m\u001b[0mcorrelate2\u001b[0m\u001b[0;34m(\u001b[0m\u001b[0ma\u001b[0m\u001b[0;34m,\u001b[0m \u001b[0mv\u001b[0m\u001b[0;34m,\u001b[0m \u001b[0mmode\u001b[0m\u001b[0;34m)\u001b[0m\u001b[0;34m\u001b[0m\u001b[0;34m\u001b[0m\u001b[0m\n\u001b[0m\u001b[1;32m    714\u001b[0m \u001b[0;34m\u001b[0m\u001b[0m\n\u001b[1;32m    715\u001b[0m \u001b[0;34m\u001b[0m\u001b[0m\n",
      "\u001b[0;31mKeyboardInterrupt\u001b[0m: "
     ]
    },
    {
     "data": {
      "image/png": "[encoded data removed]",
      "text/plain": [
       "<Figure size 432x288 with 1 Axes>"
      ]
     },
     "metadata": {
      "needs_background": "light"
     },
     "output_type": "display_data"
    }
   ],
   "source": [
    "# Check autocorrelation of various variables in the df using \n",
    "from statsmodels.graphics.tsaplots import plot_acf\n",
    "import itertools\n",
    "#train_weather_df.set_index('timestamp',inplace=True)\n",
    "plt.rcParams.update({'font.size': 16})\n",
    "#fig, axs = plt.subplots(len(train_weather_df.columns)//2+1,2, figsize=(5*int(len(train_weather_df.columns)//2+1), 20),sharex='col')\n",
    "#axs= axs.ravel()\n",
    "#for i,col in enumerate(train_weather_df.columns):\n",
    " #   axs[i] = plot_acf(train_weather_df[col], lags=31)\n",
    "_df = train_weather_df[train_weather_df.site_id == 0]['Electricity']\n",
    "_df = _df.fillna(_df.mean())\n",
    "plot_acf(, lags=31)\n",
    "plt.show()"
   ]
  },
  {
   "cell_type": "markdown",
   "metadata": {},
   "source": [
    "***To Check for stationary we perform adfuller test on the train_weather_grpsite_df and later on train_weather_df***"
   ]
  },
  {
   "cell_type": "code",
   "execution_count": 25,
   "metadata": {},
   "outputs": [],
   "source": [
    "from statsmodels.tsa.stattools import adfuller "
   ]
  },
  {
   "cell_type": "code",
   "execution_count": 26,
   "metadata": {},
   "outputs": [],
   "source": [
    "def test_stationarity(df_timeseries):\n",
    "\n",
    "    #rolling statistics\n",
    "    rolmean = df_timeseries.rolling(window=12).mean()\n",
    "    rolstd = df_timeseries.rolling(window=12).std()\n",
    "\n",
    "    #Plot rolling statistics:\n",
    "    fig = plt.figure(figsize=(15, 7))\n",
    "    orig = plt.plot(df_timeseries, color='blue',label='Original')\n",
    "    mean = plt.plot(rolmean, color='red', label='Rolling Mean')\n",
    "    std = plt.plot(rolstd, color='black', label = 'Rolling Std')\n",
    "    plt.legend(loc='best')\n",
    "    plt.title('Rolling Mean & Standard Deviation')\n",
    "    plt.show()\n",
    "    \n",
    "    #Perform Dickey-Fuller test:\n",
    "    print ('Results of Dickey-Fuller Test:')\n",
    "    dftest = adfuller(df_timeseries, autolag='AIC')\n",
    "    dfoutput = pd.Series(dftest[0:4], index=['Test Statistic','p-value','#Lags Used','Number of Observations Used'])\n",
    "    for key,value in dftest[4].items():\n",
    "        dfoutput['Critical Value (%s)'%key] = value\n",
    "    print (dfoutput)"
   ]
  },
  {
   "cell_type": "code",
   "execution_count": 1,
   "metadata": {},
   "outputs": [
    {
     "ename": "NameError",
     "evalue": "name 'train_weather_df' is not defined",
     "output_type": "error",
     "traceback": [
      "\u001b[0;31m---------------------------------------------------------------------------\u001b[0m",
      "\u001b[0;31mNameError\u001b[0m                                 Traceback (most recent call last)",
      "\u001b[0;32m<ipython-input-1-9566b4f46fd7>\u001b[0m in \u001b[0;36m<module>\u001b[0;34m\u001b[0m\n\u001b[0;32m----> 1\u001b[0;31m \u001b[0m_df\u001b[0m \u001b[0;34m=\u001b[0m \u001b[0mtrain_weather_df\u001b[0m\u001b[0;34m[\u001b[0m\u001b[0mtrain_weather_df\u001b[0m\u001b[0;34m.\u001b[0m\u001b[0msite_id\u001b[0m \u001b[0;34m==\u001b[0m \u001b[0;36m0\u001b[0m\u001b[0;34m]\u001b[0m\u001b[0;34m[\u001b[0m\u001b[0;34m'Electricity'\u001b[0m\u001b[0;34m]\u001b[0m\u001b[0;34m\u001b[0m\u001b[0;34m\u001b[0m\u001b[0m\n\u001b[0m\u001b[1;32m      2\u001b[0m \u001b[0m_df\u001b[0m \u001b[0;34m=\u001b[0m \u001b[0m_df\u001b[0m\u001b[0;34m.\u001b[0m\u001b[0mfillna\u001b[0m\u001b[0;34m(\u001b[0m\u001b[0;36m0\u001b[0m\u001b[0;34m)\u001b[0m\u001b[0;34m\u001b[0m\u001b[0;34m\u001b[0m\u001b[0m\n\u001b[1;32m      3\u001b[0m \u001b[0mtest_stationarity\u001b[0m\u001b[0;34m(\u001b[0m\u001b[0m_df\u001b[0m\u001b[0;34m)\u001b[0m\u001b[0;34m\u001b[0m\u001b[0;34m\u001b[0m\u001b[0m\n",
      "\u001b[0;31mNameError\u001b[0m: name 'train_weather_df' is not defined"
     ]
    }
   ],
   "source": [
    "_df = train_weather_df[train_weather_df.site_id == 0]['Electricity']\n",
    "_df = _df.fillna(0)\n",
    "test_stationarity(_df)"
   ]
  },
  {
   "cell_type": "markdown",
   "metadata": {},
   "source": [
    "***Ho: the series is not stationary. It has some time dependent structure.\n",
    "As the p-value is <0.05 and the Test Statistic < than 1% critical value , we reject the null hypothesis and the series is stationary. We can get similar statistic for the other series(columns too) for all the sites.***"
   ]
  },
  {
   "cell_type": "code",
   "execution_count": null,
   "metadata": {},
   "outputs": [],
   "source": [
    "test_stationarity(train_weather_grpsite_df.loc[(3,slice(None))]['Electricity'])"
   ]
  },
  {
   "cell_type": "code",
   "execution_count": null,
   "metadata": {},
   "outputs": [],
   "source": [
    "#Perform Dickey-Fuller test:\n",
    "def is_stationary(df_timeseries):\n",
    "    dftest = adfuller(df_timeseries, autolag='AIC')\n",
    "    stationary = (dftest[0] < dftest[4].get('10%'))\n",
    "    return str(stationary) + str(dftest[0]) + \" \" + str(dftest[4].get('10%'))"
   ]
  },
  {
   "cell_type": "code",
   "execution_count": null,
   "metadata": {},
   "outputs": [],
   "source": [
    "cols = ['Electricity','ChilledWater','Steam','HotWater','air_temperature','cloud_coverage',\\\n",
    "        'dew_temperature','precip_depth_1_hr', 'sea_level_pressure','wind_direction','wind_speed']"
   ]
  },
  {
   "cell_type": "code",
   "execution_count": null,
   "metadata": {},
   "outputs": [],
   "source": [
    "print(\"Percentage null values for the train_weather_df:\\n{}\".format(percentage_null(train_weather_grpsite_df)))"
   ]
  },
  {
   "cell_type": "code",
   "execution_count": 3,
   "metadata": {},
   "outputs": [
    {
     "ename": "NameError",
     "evalue": "name 'pd' is not defined",
     "output_type": "error",
     "traceback": [
      "\u001b[0;31m---------------------------------------------------------------------------\u001b[0m",
      "\u001b[0;31mNameError\u001b[0m                                 Traceback (most recent call last)",
      "\u001b[0;32m<ipython-input-3-c3cbd86a666e>\u001b[0m in \u001b[0;36m<module>\u001b[0;34m\u001b[0m\n\u001b[0;32m----> 1\u001b[0;31m \u001b[0mis_stationary_df\u001b[0m \u001b[0;34m=\u001b[0m \u001b[0mpd\u001b[0m\u001b[0;34m.\u001b[0m\u001b[0mDataFrame\u001b[0m\u001b[0;34m(\u001b[0m\u001b[0;34m)\u001b[0m\u001b[0;34m\u001b[0m\u001b[0;34m\u001b[0m\u001b[0m\n\u001b[0m\u001b[1;32m      2\u001b[0m \u001b[0;32mfor\u001b[0m \u001b[0mcol\u001b[0m \u001b[0;32min\u001b[0m \u001b[0mcols\u001b[0m\u001b[0;34m:\u001b[0m\u001b[0;34m\u001b[0m\u001b[0;34m\u001b[0m\u001b[0m\n\u001b[1;32m      3\u001b[0m     \u001b[0mis_stationary_df\u001b[0m \u001b[0;34m=\u001b[0m \u001b[0mtrain_weather_grpsite_df\u001b[0m\u001b[0;34m[\u001b[0m\u001b[0mcol\u001b[0m\u001b[0;34m]\u001b[0m\u001b[0;34m.\u001b[0m\u001b[0munstack\u001b[0m\u001b[0;34m(\u001b[0m\u001b[0;36m0\u001b[0m\u001b[0;34m)\u001b[0m\u001b[0;34m.\u001b[0m\u001b[0minterpolate\u001b[0m\u001b[0;34m(\u001b[0m\u001b[0mlimit_direction\u001b[0m\u001b[0;34m=\u001b[0m\u001b[0;34m'both'\u001b[0m\u001b[0;34m)\u001b[0m\u001b[0;34m.\u001b[0m\u001b[0;31m\\\u001b[0m\u001b[0;34m\u001b[0m\u001b[0;34m\u001b[0m\u001b[0m\n\u001b[1;32m      4\u001b[0m                         \u001b[0mdropna\u001b[0m\u001b[0;34m(\u001b[0m\u001b[0maxis\u001b[0m\u001b[0;34m=\u001b[0m\u001b[0;36m1\u001b[0m\u001b[0;34m)\u001b[0m\u001b[0;34m.\u001b[0m\u001b[0mapply\u001b[0m\u001b[0;34m(\u001b[0m\u001b[0;32mlambda\u001b[0m \u001b[0mx\u001b[0m\u001b[0;34m:\u001b[0m \u001b[0mis_stationary\u001b[0m\u001b[0;34m(\u001b[0m\u001b[0mx\u001b[0m\u001b[0;34m)\u001b[0m\u001b[0;34m)\u001b[0m\u001b[0;34m\u001b[0m\u001b[0;34m\u001b[0m\u001b[0m\n\u001b[1;32m      5\u001b[0m     \u001b[0mprint\u001b[0m\u001b[0;34m(\u001b[0m\u001b[0;34m\"Is timeseries for {} stationary?\"\u001b[0m\u001b[0;34m.\u001b[0m\u001b[0mformat\u001b[0m\u001b[0;34m(\u001b[0m\u001b[0mcol\u001b[0m\u001b[0;34m)\u001b[0m\u001b[0;34m)\u001b[0m\u001b[0;34m\u001b[0m\u001b[0;34m\u001b[0m\u001b[0m\n",
      "\u001b[0;31mNameError\u001b[0m: name 'pd' is not defined"
     ]
    }
   ],
   "source": [
    "is_stationary_df = pd.DataFrame()\n",
    "for col in cols:\n",
    "    is_stationary_df = train_weather_grpsite_df[col].unstack(0).interpolate(limit_direction='both').\\\n",
    "                        dropna(axis=1).apply(lambda x: is_stationary(x))\n",
    "    print(\"Is timeseries for {} stationary?\".format(col))\n",
    "    print(is_stationary_df)"
   ]
  },
  {
   "cell_type": "code",
   "execution_count": null,
   "metadata": {},
   "outputs": [],
   "source": [
    "is_stationarity(train_weather_grpsite_df.loc[(3,slice(None))]['Electricity'].resample('12H').mean())"
   ]
  },
  {
   "cell_type": "markdown",
   "metadata": {},
   "source": [
    "#Let's plot the autocorrelation graphs of all the columns beggining with electricity."
   ]
  },
  {
   "cell_type": "code",
   "execution_count": null,
   "metadata": {},
   "outputs": [],
   "source": [
    "train_build_df.groupby(['site_id','timestamp']).sum().loc[(3,slice(None))]['Electricity'].resample('12H').mean().plot()"
   ]
  },
  {
   "cell_type": "code",
   "execution_count": null,
   "metadata": {},
   "outputs": [],
   "source": [
    "from statsmodels.graphics.tsaplots import plot_acf,plot_pacf"
   ]
  },
  {
   "cell_type": "code",
   "execution_count": null,
   "metadata": {},
   "outputs": [],
   "source": [
    "_=train_weather_grpsite_df.loc[(3,slice(None))]['Electricity'].diff(4)\n",
    "plot_pacf(_)"
   ]
  },
  {
   "cell_type": "code",
   "execution_count": null,
   "metadata": {},
   "outputs": [],
   "source": [
    "from sklearn.preprocessing import PowerTransformer"
   ]
  },
  {
   "cell_type": "code",
   "execution_count": null,
   "metadata": {},
   "outputs": [],
   "source": [
    "cols_to_scale = train_weather_df.columns.difference(['timestamp','building_id','meter','site_id'])\n",
    "scaler = PowerTransformer()\n",
    "tw_scaled_df = train_weather_df.copy()\n",
    "tw_scaled_df[cols_to_scale] = scaler.fit_transform(train_weather_df[cols_to_scale])"
   ]
  },
  {
   "cell_type": "code",
   "execution_count": null,
   "metadata": {},
   "outputs": [],
   "source": [
    "tw_scaled_df.describe().T"
   ]
  },
  {
   "cell_type": "code",
   "execution_count": null,
   "metadata": {},
   "outputs": [],
   "source": [
    "_df = tw_scaled_df.set_index(['timestamp'])[['meter','site_id']].value_counts()\n",
    "for i in range(4):\n",
    "    print(\"The top 2 sites with highest count of meter readings for meter{} is :{}\".\\\n",
    "          format(i,_df.loc[i,:].sort_values(ascending=False).head(2)))"
   ]
  },
  {
   "cell_type": "markdown",
   "metadata": {},
   "source": [
    "**With the help of these counts we can narrow are EDA to site13-(Meter0 & Meter2) and site2-(Meter0 & Meter2)**"
   ]
  },
  {
   "cell_type": "code",
   "execution_count": null,
   "metadata": {},
   "outputs": [],
   "source": [
    "fig, axs = plt.subplots(4,1,figsize=(20,4*4),sharex=True)\n",
    "cols = tw_scaled_df.columns.difference(['building_id','meter','site_id'])\n",
    "\n",
    "#for i in tw_scaled_idx_df.site_id.unique():\n",
    "tw_scaled_df[(tw_scaled_df.meter==0) & (tw_scaled_df.site_id==3)][cols].set_index(['timestamp']).\\\n",
    "                resample('M').mean().plot(ax=axs[0],ylabel=\"meter 0 & site 3\",legend=True)\n",
    "tw_scaled_df[(tw_scaled_df.meter==2) & (tw_scaled_df.site_id==13)][cols].set_index(['timestamp']).\\\n",
    "                resample('M').mean().plot(ax=axs[1],ylabel=\"meter 2 & site 13\",legend=True)\n",
    "tw_scaled_df[(tw_scaled_df.meter==1) & (tw_scaled_df.site_id==2)][cols].set_index(['timestamp']).\\\n",
    "                resample('M').mean().plot(ax=axs[2],ylabel=\"meter 1 & site 2\",legend=True)\n",
    "tw_scaled_df[(tw_scaled_df.meter==3) & (tw_scaled_df.site_id==2)][cols].set_index(['timestamp']).\\\n",
    "                resample('M').mean().plot(ax=axs[3],ylabel=\"meter 3 & site 2\",legend=True)\n"
   ]
  },
  {
   "cell_type": "code",
   "execution_count": null,
   "metadata": {},
   "outputs": [],
   "source": [
    "tw_scaled_df.columns"
   ]
  },
  {
   "cell_type": "code",
   "execution_count": null,
   "metadata": {},
   "outputs": [],
   "source": [
    "4660000*6/94"
   ]
  },
  {
   "cell_type": "code",
   "execution_count": null,
   "metadata": {},
   "outputs": [],
   "source": []
  }
 ],
 "metadata": {
  "kernelspec": {
   "display_name": "cap2",
   "language": "python",
   "name": "cap2"
  },
  "language_info": {
   "codemirror_mode": {
    "name": "ipython",
    "version": 3
   },
   "file_extension": ".py",
   "mimetype": "text/x-python",
   "name": "python",
   "nbconvert_exporter": "python",
   "pygments_lexer": "ipython3",
   "version": "3.8.5"
  }
 },
 "nbformat": 4,
 "nbformat_minor": 4
}
